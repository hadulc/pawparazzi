{
 "cells": [
  {
   "cell_type": "code",
   "execution_count": 1,
   "id": "73db488d-27cb-46a7-9d59-0d0ece8565a9",
   "metadata": {
    "execution": {
     "iopub.execute_input": "2025-06-13T08:02:44.625232Z",
     "iopub.status.busy": "2025-06-13T08:02:44.623636Z",
     "iopub.status.idle": "2025-06-13T08:02:55.233461Z",
     "shell.execute_reply": "2025-06-13T08:02:55.232051Z",
     "shell.execute_reply.started": "2025-06-13T08:02:44.625134Z"
    }
   },
   "outputs": [
    {
     "name": "stderr",
     "output_type": "stream",
     "text": [
      "2025-06-13 10:02:46.499074: E external/local_xla/xla/stream_executor/cuda/cuda_fft.cc:467] Unable to register cuFFT factory: Attempting to register factory for plugin cuFFT when one has already been registered\n",
      "WARNING: All log messages before absl::InitializeLog() is called are written to STDERR\n",
      "E0000 00:00:1749801766.682450   10015 cuda_dnn.cc:8579] Unable to register cuDNN factory: Attempting to register factory for plugin cuDNN when one has already been registered\n",
      "E0000 00:00:1749801766.732679   10015 cuda_blas.cc:1407] Unable to register cuBLAS factory: Attempting to register factory for plugin cuBLAS when one has already been registered\n",
      "W0000 00:00:1749801767.172700   10015 computation_placer.cc:177] computation placer already registered. Please check linkage and avoid linking the same target more than once.\n",
      "W0000 00:00:1749801767.172825   10015 computation_placer.cc:177] computation placer already registered. Please check linkage and avoid linking the same target more than once.\n",
      "W0000 00:00:1749801767.172828   10015 computation_placer.cc:177] computation placer already registered. Please check linkage and avoid linking the same target more than once.\n",
      "W0000 00:00:1749801767.172829   10015 computation_placer.cc:177] computation placer already registered. Please check linkage and avoid linking the same target more than once.\n"
     ]
    }
   ],
   "source": [
    "import tensorflow as tf"
   ]
  },
  {
   "cell_type": "code",
   "execution_count": 13,
   "id": "945d2ea3-9ec0-49e2-b7b8-045d30412b80",
   "metadata": {
    "execution": {
     "iopub.execute_input": "2025-06-13T08:10:44.943978Z",
     "iopub.status.busy": "2025-06-13T08:10:44.942921Z",
     "iopub.status.idle": "2025-06-13T08:10:44.958290Z",
     "shell.execute_reply": "2025-06-13T08:10:44.956115Z",
     "shell.execute_reply.started": "2025-06-13T08:10:44.943897Z"
    }
   },
   "outputs": [],
   "source": [
    "class_names = [\n",
    "    \"Chihuahua\",\n",
    "    \"Japanese Spaniel\",\n",
    "    \"Maltese Dog\",\n",
    "    \"Pekinese\",\n",
    "    \"Shih-tzu\",\n",
    "    \"Blenheim Spaniel\",\n",
    "    \"Papillon\",\n",
    "    \"Toy Terrier\",\n",
    "    \"Rhodesian Ridgeback\",\n",
    "    \"Afghan Hound\",\n",
    "    \"Basset\",\n",
    "    \"Beagle\",\n",
    "    \"Bloodhound\",\n",
    "    \"Bluetick\",\n",
    "    \"Black-and-tan Coonhound\",\n",
    "    \"Walker Hound\",\n",
    "    \"English Foxhound\",\n",
    "    \"Redbone\",\n",
    "    \"Borzoi\",\n",
    "    \"Irish Wolfhound\",\n",
    "    \"Italian Greyhound\",\n",
    "    \"Whippet\",\n",
    "    \"Ibizan Hound\",\n",
    "    \"Norwegian Elkhound\",\n",
    "    \"Otterhound\",\n",
    "    \"Saluki\",\n",
    "    \"Scottish Deerhound\",\n",
    "    \"Weimaraner\",\n",
    "    \"Staffordshire Bullterrier\",\n",
    "    \"American Staffordshire Terrier\",\n",
    "    \"Bedlington Terrier\",\n",
    "    \"Border Terrier\",\n",
    "    \"Kerry Blue Terrier\",\n",
    "    \"Irish Terrier\",\n",
    "    \"Norfolk Terrier\",\n",
    "    \"Norwich Terrier\",\n",
    "    \"Yorkshire Terrier\",\n",
    "    \"Wire-haired Fox Terrier\",\n",
    "    \"Lakeland Terrier\",\n",
    "    \"Sealyham Terrier\",\n",
    "    \"Airedale\",\n",
    "    \"Cairn\",\n",
    "    \"Australian Terrier\",\n",
    "    \"Dandie Dinmont\",\n",
    "    \"Boston Bull\",\n",
    "    \"Miniature Schnauzer\",\n",
    "    \"Giant Schnauzer\",\n",
    "    \"Standard Schnauzer\",\n",
    "    \"Scotch Terrier\",\n",
    "    \"Tibetan Terrier\",\n",
    "    \"Silky Terrier\",\n",
    "    \"Soft-coated Wheaten Terrier\",\n",
    "    \"West Highland White Terrier\",\n",
    "    \"Lhasa\",\n",
    "    \"Flat-coated Retriever\",\n",
    "    \"Curly-coated Retriever\",\n",
    "    \"Golden Retriever\",\n",
    "    \"Labrador Retriever\",\n",
    "    \"Chesapeake Bay Retriever\",\n",
    "    \"German Short-haired Pointer\",\n",
    "    \"Vizsla\",\n",
    "    \"English Setter\",\n",
    "    \"Irish Setter\",\n",
    "    \"Gordon Setter\",\n",
    "    \"Brittany Spaniel\",\n",
    "    \"Clumber\",\n",
    "    \"English Springer\",\n",
    "    \"Welsh Springer Spaniel\",\n",
    "    \"Cocker Spaniel\",\n",
    "    \"Sussex Spaniel\",\n",
    "    \"Irish Water Spaniel\",\n",
    "    \"Kuvasz\",\n",
    "    \"Schipperke\",\n",
    "    \"Groenendael\",\n",
    "    \"Malinois\",\n",
    "    \"Briard\",\n",
    "    \"Kelpie\",\n",
    "    \"Komondor\",\n",
    "    \"Old English Sheepdog\",\n",
    "    \"Shetland Sheepdog\",\n",
    "    \"Collie\",\n",
    "    \"Border Collie\",\n",
    "    \"Bouvier Des Flandres\",\n",
    "    \"Rottweiler\",\n",
    "    \"German Shepherd\",\n",
    "    \"Doberman\",\n",
    "    \"Miniature Pinscher\",\n",
    "    \"Greater Swiss Mountain Dog\",\n",
    "    \"Bernese Mountain Dog\",\n",
    "    \"Appenzeller\",\n",
    "    \"Entlebucher\",\n",
    "    \"Boxer\",\n",
    "    \"Bull Mastiff\",\n",
    "    \"Tibetan Mastiff\",\n",
    "    \"French Bulldog\",\n",
    "    \"Great Dane\",\n",
    "    \"Saint Bernard\",\n",
    "    \"Eskimo Dog\",\n",
    "    \"Malamute\",\n",
    "    \"Siberian Husky\",\n",
    "    \"Affenpinscher\",\n",
    "    \"Basenji\",\n",
    "    \"Pug\",\n",
    "    \"Leonberg\",\n",
    "    \"Newfoundland\",\n",
    "    \"Great Pyrenees\",\n",
    "    \"Samoyed\",\n",
    "    \"Pomeranian\",\n",
    "    \"Chow\",\n",
    "    \"Keeshond\",\n",
    "    \"Brabancon Griffon\",\n",
    "    \"Pembroke\",\n",
    "    \"Cardigan\",\n",
    "    \"Toy Poodle\",\n",
    "    \"Miniature Poodle\",\n",
    "    \"Standard Poodle\",\n",
    "    \"Mexican Hairless\",\n",
    "    \"Dingo\",\n",
    "    \"Dhole\",\n",
    "    \"African Hunting Dog\",\n",
    "]"
   ]
  },
  {
   "cell_type": "code",
   "execution_count": 4,
   "id": "19aef9b3-530a-4db6-9a02-e06a7c652976",
   "metadata": {
    "execution": {
     "iopub.execute_input": "2025-06-13T08:06:21.683643Z",
     "iopub.status.busy": "2025-06-13T08:06:21.683075Z",
     "iopub.status.idle": "2025-06-13T08:06:35.425541Z",
     "shell.execute_reply": "2025-06-13T08:06:35.423642Z",
     "shell.execute_reply.started": "2025-06-13T08:06:21.683601Z"
    }
   },
   "outputs": [
    {
     "name": "stderr",
     "output_type": "stream",
     "text": [
      "2025-06-13 10:06:21.755105: E external/local_xla/xla/stream_executor/cuda/cuda_platform.cc:51] failed call to cuInit: INTERNAL: CUDA error: Failed call to cuInit: UNKNOWN ERROR (303)\n"
     ]
    }
   ],
   "source": [
    "model = tf.keras.models.load_model(\"../models/model_large.keras\")"
   ]
  },
  {
   "cell_type": "code",
   "execution_count": 9,
   "id": "42765b78-bb34-40cf-8126-0e877771dd96",
   "metadata": {
    "execution": {
     "iopub.execute_input": "2025-06-13T08:09:51.347052Z",
     "iopub.status.busy": "2025-06-13T08:09:51.346432Z",
     "iopub.status.idle": "2025-06-13T08:09:51.360825Z",
     "shell.execute_reply": "2025-06-13T08:09:51.358408Z",
     "shell.execute_reply.started": "2025-06-13T08:09:51.347009Z"
    }
   },
   "outputs": [],
   "source": [
    "path = \"../test/pomerania.jpg\""
   ]
  },
  {
   "cell_type": "code",
   "execution_count": 10,
   "id": "1bea288e-e7e1-4723-b99c-39c936f32980",
   "metadata": {
    "execution": {
     "iopub.execute_input": "2025-06-13T08:09:52.040314Z",
     "iopub.status.busy": "2025-06-13T08:09:52.039334Z",
     "iopub.status.idle": "2025-06-13T08:09:52.053690Z",
     "shell.execute_reply": "2025-06-13T08:09:52.050341Z",
     "shell.execute_reply.started": "2025-06-13T08:09:52.040237Z"
    }
   },
   "outputs": [],
   "source": [
    "img_height = 224\n",
    "img_width = 224"
   ]
  },
  {
   "cell_type": "code",
   "execution_count": 11,
   "id": "71086cd8-6ae3-44ca-9522-67f13d23680a",
   "metadata": {
    "execution": {
     "iopub.execute_input": "2025-06-13T08:09:52.568022Z",
     "iopub.status.busy": "2025-06-13T08:09:52.566872Z",
     "iopub.status.idle": "2025-06-13T08:09:52.709042Z",
     "shell.execute_reply": "2025-06-13T08:09:52.707265Z",
     "shell.execute_reply.started": "2025-06-13T08:09:52.567949Z"
    }
   },
   "outputs": [],
   "source": [
    "img = tf.keras.utils.load_img(path, target_size=(img_height, img_width))\n",
    "img_array = tf.keras.utils.img_to_array(img)\n",
    "img_array = tf.expand_dims(img_array, 0)"
   ]
  },
  {
   "cell_type": "code",
   "execution_count": 15,
   "id": "35a12c8c-6a91-403e-ae3e-6b7a88e746b5",
   "metadata": {
    "execution": {
     "iopub.execute_input": "2025-06-13T08:11:16.827370Z",
     "iopub.status.busy": "2025-06-13T08:11:16.826414Z",
     "iopub.status.idle": "2025-06-13T08:11:16.837045Z",
     "shell.execute_reply": "2025-06-13T08:11:16.834618Z",
     "shell.execute_reply.started": "2025-06-13T08:11:16.827294Z"
    }
   },
   "outputs": [],
   "source": [
    "import numpy as np"
   ]
  },
  {
   "cell_type": "code",
   "execution_count": 16,
   "id": "f50242c3-976d-49b4-b5e1-17a98790c07a",
   "metadata": {
    "execution": {
     "iopub.execute_input": "2025-06-13T08:11:18.279536Z",
     "iopub.status.busy": "2025-06-13T08:11:18.277325Z",
     "iopub.status.idle": "2025-06-13T08:11:19.304302Z",
     "shell.execute_reply": "2025-06-13T08:11:19.302892Z",
     "shell.execute_reply.started": "2025-06-13T08:11:18.279467Z"
    }
   },
   "outputs": [
    {
     "name": "stdout",
     "output_type": "stream",
     "text": [
      "\u001b[1m1/1\u001b[0m \u001b[32m━━━━━━━━━━━━━━━━━━━━\u001b[0m\u001b[37m\u001b[0m \u001b[1m1s\u001b[0m 919ms/step\n",
      "This image most likely belongs to Pomeranian with a 99.96 percent confidence.\n"
     ]
    }
   ],
   "source": [
    "predictions = model.predict(img_array)\n",
    "score = predictions[0]\n",
    "\n",
    "print(\n",
    "    \"This image most likely belongs to {} with a {:.2f} percent confidence.\".format(\n",
    "        class_names[np.argmax(score)], 100 * np.max(score)\n",
    "    )\n",
    ")"
   ]
  },
  {
   "cell_type": "code",
   "execution_count": 17,
   "id": "d595b28b-a3ab-43ff-a1a2-da87fedf5bf0",
   "metadata": {
    "execution": {
     "iopub.execute_input": "2025-06-13T08:13:27.175907Z",
     "iopub.status.busy": "2025-06-13T08:13:27.174962Z",
     "iopub.status.idle": "2025-06-13T08:13:27.187311Z",
     "shell.execute_reply": "2025-06-13T08:13:27.184837Z",
     "shell.execute_reply.started": "2025-06-13T08:13:27.175852Z"
    }
   },
   "outputs": [],
   "source": [
    "path2 = \"../test/samoyed.jpg\""
   ]
  },
  {
   "cell_type": "code",
   "execution_count": 18,
   "id": "5e10aff3-cbc4-4566-93bd-91540100b420",
   "metadata": {
    "execution": {
     "iopub.execute_input": "2025-06-13T08:13:45.737908Z",
     "iopub.status.busy": "2025-06-13T08:13:45.734950Z",
     "iopub.status.idle": "2025-06-13T08:13:45.865590Z",
     "shell.execute_reply": "2025-06-13T08:13:45.864431Z",
     "shell.execute_reply.started": "2025-06-13T08:13:45.737832Z"
    }
   },
   "outputs": [],
   "source": [
    "img2 = tf.keras.utils.load_img(path2, target_size=(img_height, img_width))\n",
    "img_array2 = tf.keras.utils.img_to_array(img2)\n",
    "img_array2 = tf.expand_dims(img_array2, 0)"
   ]
  },
  {
   "cell_type": "code",
   "execution_count": 19,
   "id": "171d4b03-edbf-4685-bfff-b8ee298e65a7",
   "metadata": {
    "execution": {
     "iopub.execute_input": "2025-06-13T08:13:59.900656Z",
     "iopub.status.busy": "2025-06-13T08:13:59.898013Z",
     "iopub.status.idle": "2025-06-13T08:14:01.099135Z",
     "shell.execute_reply": "2025-06-13T08:14:01.097040Z",
     "shell.execute_reply.started": "2025-06-13T08:13:59.900570Z"
    }
   },
   "outputs": [
    {
     "name": "stdout",
     "output_type": "stream",
     "text": [
      "\u001b[1m1/1\u001b[0m \u001b[32m━━━━━━━━━━━━━━━━━━━━\u001b[0m\u001b[37m\u001b[0m \u001b[1m1s\u001b[0m 1s/step   \n",
      "This image most likely belongs to Samoyed with a 63.43 percent confidence.\n"
     ]
    }
   ],
   "source": [
    "predictions = model.predict(img_array2)\n",
    "score = predictions[0]\n",
    "\n",
    "print(\n",
    "    \"This image most likely belongs to {} with a {:.2f} percent confidence.\".format(\n",
    "        class_names[np.argmax(score)], 100 * np.max(score)\n",
    "    )\n",
    ")"
   ]
  },
  {
   "cell_type": "code",
   "execution_count": 22,
   "id": "77c996cc-7284-4627-b6a3-f2774a0a1f2a",
   "metadata": {
    "execution": {
     "iopub.execute_input": "2025-06-13T08:16:41.389219Z",
     "iopub.status.busy": "2025-06-13T08:16:41.388169Z",
     "iopub.status.idle": "2025-06-13T08:16:41.399222Z",
     "shell.execute_reply": "2025-06-13T08:16:41.396390Z",
     "shell.execute_reply.started": "2025-06-13T08:16:41.389149Z"
    }
   },
   "outputs": [],
   "source": [
    "path3 = \"../test/greater_swiss_test_image.JPG\""
   ]
  },
  {
   "cell_type": "code",
   "execution_count": 23,
   "id": "b1072243-9460-4c59-9509-9b698cbf4db4",
   "metadata": {
    "execution": {
     "iopub.execute_input": "2025-06-13T08:16:41.961499Z",
     "iopub.status.busy": "2025-06-13T08:16:41.958863Z",
     "iopub.status.idle": "2025-06-13T08:16:42.007838Z",
     "shell.execute_reply": "2025-06-13T08:16:42.001288Z",
     "shell.execute_reply.started": "2025-06-13T08:16:41.961419Z"
    }
   },
   "outputs": [],
   "source": [
    "img3 = tf.keras.utils.load_img(path3, target_size=(img_height, img_width))\n",
    "img_array3 = tf.keras.utils.img_to_array(img3)\n",
    "img_array3 = tf.expand_dims(img_array3, 0)"
   ]
  },
  {
   "cell_type": "code",
   "execution_count": 24,
   "id": "bad7bab0-b090-4b1a-b2ac-f5e44caf1526",
   "metadata": {
    "execution": {
     "iopub.execute_input": "2025-06-13T08:16:51.461818Z",
     "iopub.status.busy": "2025-06-13T08:16:51.459964Z",
     "iopub.status.idle": "2025-06-13T08:16:52.567909Z",
     "shell.execute_reply": "2025-06-13T08:16:52.565634Z",
     "shell.execute_reply.started": "2025-06-13T08:16:51.461779Z"
    }
   },
   "outputs": [
    {
     "name": "stdout",
     "output_type": "stream",
     "text": [
      "\u001b[1m1/1\u001b[0m \u001b[32m━━━━━━━━━━━━━━━━━━━━\u001b[0m\u001b[37m\u001b[0m \u001b[1m1s\u001b[0m 974ms/step\n",
      "This image most likely belongs to Appenzeller with a 87.59 percent confidence.\n"
     ]
    }
   ],
   "source": [
    "predictions = model.predict(img_array3)\n",
    "score = predictions[0]\n",
    "\n",
    "print(\n",
    "    \"This image most likely belongs to {} with a {:.2f} percent confidence.\".format(\n",
    "        class_names[np.argmax(score)], 100 * np.max(score)\n",
    "    )\n",
    ")"
   ]
  },
  {
   "cell_type": "code",
   "execution_count": null,
   "id": "e7a7a006-5e3f-4d05-9e9b-402560373803",
   "metadata": {},
   "outputs": [],
   "source": []
  }
 ],
 "metadata": {
  "kernelspec": {
   "display_name": "Python 3 (ipykernel)",
   "language": "python",
   "name": "python3"
  },
  "language_info": {
   "codemirror_mode": {
    "name": "ipython",
    "version": 3
   },
   "file_extension": ".py",
   "mimetype": "text/x-python",
   "name": "python",
   "nbconvert_exporter": "python",
   "pygments_lexer": "ipython3",
   "version": "3.10.6"
  }
 },
 "nbformat": 4,
 "nbformat_minor": 5
}
