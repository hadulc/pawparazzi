{
 "cells": [
  {
   "cell_type": "code",
   "execution_count": 1,
   "metadata": {
    "execution": {
     "iopub.execute_input": "2025-06-12T15:07:30.585659Z",
     "iopub.status.busy": "2025-06-12T15:07:30.585451Z",
     "iopub.status.idle": "2025-06-12T15:07:47.762317Z",
     "shell.execute_reply": "2025-06-12T15:07:47.761370Z",
     "shell.execute_reply.started": "2025-06-12T15:07:30.585641Z"
    }
   },
   "outputs": [
    {
     "name": "stderr",
     "output_type": "stream",
     "text": [
      "2025-06-12 15:07:32.575365: E external/local_xla/xla/stream_executor/cuda/cuda_fft.cc:477] Unable to register cuFFT factory: Attempting to register factory for plugin cuFFT when one has already been registered\n",
      "WARNING: All log messages before absl::InitializeLog() is called are written to STDERR\n",
      "E0000 00:00:1749740852.811127      35 cuda_dnn.cc:8310] Unable to register cuDNN factory: Attempting to register factory for plugin cuDNN when one has already been registered\n",
      "E0000 00:00:1749740852.879878      35 cuda_blas.cc:1418] Unable to register cuBLAS factory: Attempting to register factory for plugin cuBLAS when one has already been registered\n"
     ]
    }
   ],
   "source": [
    "from tensorflow.keras.applications import EfficientNetV2L\n",
    "from tensorflow.keras import layers, Sequential\n",
    "import numpy as np"
   ]
  },
  {
   "cell_type": "code",
   "execution_count": 2,
   "metadata": {
    "execution": {
     "iopub.execute_input": "2025-06-12T15:07:51.178539Z",
     "iopub.status.busy": "2025-06-12T15:07:51.178157Z",
     "iopub.status.idle": "2025-06-12T15:07:51.182792Z",
     "shell.execute_reply": "2025-06-12T15:07:51.181762Z",
     "shell.execute_reply.started": "2025-06-12T15:07:51.178518Z"
    }
   },
   "outputs": [],
   "source": [
    "import tensorflow as tf"
   ]
  },
  {
   "cell_type": "code",
   "execution_count": 3,
   "metadata": {
    "execution": {
     "iopub.execute_input": "2025-06-12T15:08:06.802087Z",
     "iopub.status.busy": "2025-06-12T15:08:06.801719Z",
     "iopub.status.idle": "2025-06-12T15:08:31.437674Z",
     "shell.execute_reply": "2025-06-12T15:08:31.436794Z",
     "shell.execute_reply.started": "2025-06-12T15:08:06.802059Z"
    }
   },
   "outputs": [
    {
     "name": "stdout",
     "output_type": "stream",
     "text": [
      "Found 20580 files belonging to 120 classes.\n",
      "Using 14406 files for training.\n"
     ]
    },
    {
     "name": "stderr",
     "output_type": "stream",
     "text": [
      "I0000 00:00:1749740905.969991      35 gpu_device.cc:2022] Created device /job:localhost/replica:0/task:0/device:GPU:0 with 13942 MB memory:  -> device: 0, name: Tesla T4, pci bus id: 0000:00:04.0, compute capability: 7.5\n",
      "I0000 00:00:1749740905.970876      35 gpu_device.cc:2022] Created device /job:localhost/replica:0/task:0/device:GPU:1 with 13942 MB memory:  -> device: 1, name: Tesla T4, pci bus id: 0000:00:05.0, compute capability: 7.5\n"
     ]
    },
    {
     "name": "stdout",
     "output_type": "stream",
     "text": [
      "Found 20580 files belonging to 120 classes.\n",
      "Using 6174 files for validation.\n"
     ]
    }
   ],
   "source": [
    "dataset_dir = \"/kaggle/input/stanford-dogs-dataset/images/Images\"\n",
    "batch_size = 32\n",
    "img_height = 224\n",
    "img_width = 224\n",
    "validation_split = 0.3\n",
    "seed = 123\n",
    "\n",
    "train_ds = tf.keras.utils.image_dataset_from_directory(\n",
    "    dataset_dir,\n",
    "    validation_split=validation_split,\n",
    "    subset=\"training\",\n",
    "    seed=seed,\n",
    "    image_size=(img_height, img_width),\n",
    "    batch_size=batch_size,\n",
    ")\n",
    "\n",
    "val_test_ds = tf.keras.utils.image_dataset_from_directory(\n",
    "    dataset_dir,\n",
    "    validation_split=validation_split,\n",
    "    subset=\"validation\",\n",
    "    seed=seed,\n",
    "    image_size=(img_height, img_width),\n",
    "    batch_size=batch_size,\n",
    ")\n",
    "\n",
    "num_val_test_batches = tf.data.experimental.cardinality(val_test_ds).numpy()\n",
    "num_test_batches = int(num_val_test_batches * 0.5)\n",
    "val_ds = val_test_ds.skip(num_test_batches)\n",
    "test_ds = val_test_ds.take(num_test_batches)"
   ]
  },
  {
   "cell_type": "code",
   "execution_count": 4,
   "metadata": {
    "execution": {
     "iopub.execute_input": "2025-06-12T15:08:39.111824Z",
     "iopub.status.busy": "2025-06-12T15:08:39.111495Z",
     "iopub.status.idle": "2025-06-12T15:26:31.399834Z",
     "shell.execute_reply": "2025-06-12T15:26:31.399025Z",
     "shell.execute_reply.started": "2025-06-12T15:08:39.111800Z"
    }
   },
   "outputs": [
    {
     "name": "stdout",
     "output_type": "stream",
     "text": [
      "Downloading data from https://storage.googleapis.com/tensorflow/keras-applications/efficientnet_v2/efficientnetv2-l_notop.h5\n",
      "\u001b[1m473176280/473176280\u001b[0m \u001b[32m━━━━━━━━━━━━━━━━━━━━\u001b[0m\u001b[37m\u001b[0m \u001b[1m2s\u001b[0m 0us/step\n",
      "Epoch 1/5\n"
     ]
    },
    {
     "name": "stderr",
     "output_type": "stream",
     "text": [
      "WARNING: All log messages before absl::InitializeLog() is called are written to STDERR\n",
      "I0000 00:00:1749741008.294425     107 service.cc:148] XLA service 0x7b1df8004400 initialized for platform CUDA (this does not guarantee that XLA will be used). Devices:\n",
      "I0000 00:00:1749741008.295412     107 service.cc:156]   StreamExecutor device (0): Tesla T4, Compute Capability 7.5\n",
      "I0000 00:00:1749741008.295432     107 service.cc:156]   StreamExecutor device (1): Tesla T4, Compute Capability 7.5\n",
      "I0000 00:00:1749741017.540828     107 cuda_dnn.cc:529] Loaded cuDNN version 90300\n",
      "I0000 00:00:1749741070.736217     107 device_compiler.h:188] Compiled cluster using XLA!  This line is logged at most once for the lifetime of the process.\n"
     ]
    },
    {
     "name": "stdout",
     "output_type": "stream",
     "text": [
      "\u001b[1m451/451\u001b[0m \u001b[32m━━━━━━━━━━━━━━━━━━━━\u001b[0m\u001b[37m\u001b[0m \u001b[1m398s\u001b[0m 572ms/step - accuracy: 0.7074 - loss: 1.7158 - val_accuracy: 0.9039 - val_loss: 0.3307\n",
      "Epoch 2/5\n",
      "\u001b[1m451/451\u001b[0m \u001b[32m━━━━━━━━━━━━━━━━━━━━\u001b[0m\u001b[37m\u001b[0m \u001b[1m163s\u001b[0m 361ms/step - accuracy: 0.8946 - loss: 0.3635 - val_accuracy: 0.9068 - val_loss: 0.3291\n",
      "Epoch 3/5\n",
      "\u001b[1m451/451\u001b[0m \u001b[32m━━━━━━━━━━━━━━━━━━━━\u001b[0m\u001b[37m\u001b[0m \u001b[1m167s\u001b[0m 369ms/step - accuracy: 0.8955 - loss: 0.3410 - val_accuracy: 0.9065 - val_loss: 0.3327\n",
      "Epoch 4/5\n",
      "\u001b[1m451/451\u001b[0m \u001b[32m━━━━━━━━━━━━━━━━━━━━\u001b[0m\u001b[37m\u001b[0m \u001b[1m166s\u001b[0m 369ms/step - accuracy: 0.9050 - loss: 0.2930 - val_accuracy: 0.9101 - val_loss: 0.3389\n",
      "Epoch 5/5\n",
      "\u001b[1m451/451\u001b[0m \u001b[32m━━━━━━━━━━━━━━━━━━━━\u001b[0m\u001b[37m\u001b[0m \u001b[1m167s\u001b[0m 369ms/step - accuracy: 0.9136 - loss: 0.2742 - val_accuracy: 0.9059 - val_loss: 0.3585\n"
     ]
    }
   ],
   "source": [
    "from tensorflow.keras import layers, models\n",
    "from tensorflow.keras.callbacks import EarlyStopping\n",
    "\n",
    "early_stopping = EarlyStopping(\n",
    "    monitor=\"val_loss\", patience=3, restore_best_weights=True\n",
    ")\n",
    "\n",
    "data_augmentation = tf.keras.Sequential(\n",
    "    [\n",
    "        layers.RandomFlip(\"horizontal\"),\n",
    "        layers.RandomRotation(0.1),\n",
    "        layers.RandomZoom(0.1),\n",
    "    ]\n",
    ")\n",
    "\n",
    "base_model = EfficientNetV2L(\n",
    "    input_shape=(224, 224, 3), include_top=False, weights=\"imagenet\", classes=120\n",
    ")\n",
    "base_model.trainable = False\n",
    "\n",
    "model = models.Sequential(\n",
    "    [\n",
    "        base_model,\n",
    "        layers.GlobalAveragePooling2D(),\n",
    "        layers.Dense(256, activation=\"relu\"),\n",
    "        layers.Dropout(0.3),\n",
    "        layers.Dense(120, activation=\"softmax\"),\n",
    "    ]\n",
    ")\n",
    "\n",
    "model.compile(\n",
    "    optimizer=\"adam\", loss=\"sparse_categorical_crossentropy\", metrics=[\"accuracy\"]\n",
    ")\n",
    "\n",
    "history = model.fit(\n",
    "    train_ds, validation_data=val_ds, epochs=5, callbacks=[early_stopping]\n",
    ")"
   ]
  },
  {
   "cell_type": "code",
   "execution_count": 5,
   "metadata": {
    "execution": {
     "iopub.execute_input": "2025-06-12T15:29:10.872726Z",
     "iopub.status.busy": "2025-06-12T15:29:10.872392Z",
     "iopub.status.idle": "2025-06-12T15:29:37.097690Z",
     "shell.execute_reply": "2025-06-12T15:29:37.096736Z",
     "shell.execute_reply.started": "2025-06-12T15:29:10.872704Z"
    }
   },
   "outputs": [
    {
     "name": "stdout",
     "output_type": "stream",
     "text": [
      "\u001b[1m96/96\u001b[0m \u001b[32m━━━━━━━━━━━━━━━━━━━━\u001b[0m\u001b[37m\u001b[0m \u001b[1m26s\u001b[0m 272ms/step - accuracy: 0.8968 - loss: 0.3652\n"
     ]
    },
    {
     "data": {
      "text/plain": [
       "[0.32712051272392273, 0.9052734375]"
      ]
     },
     "execution_count": 5,
     "metadata": {},
     "output_type": "execute_result"
    }
   ],
   "source": [
    "model.evaluate(test_ds)"
   ]
  },
  {
   "cell_type": "code",
   "execution_count": 6,
   "metadata": {
    "execution": {
     "iopub.execute_input": "2025-06-12T15:30:28.088097Z",
     "iopub.status.busy": "2025-06-12T15:30:28.087320Z",
     "iopub.status.idle": "2025-06-12T15:30:28.092125Z",
     "shell.execute_reply": "2025-06-12T15:30:28.091265Z",
     "shell.execute_reply.started": "2025-06-12T15:30:28.088069Z"
    }
   },
   "outputs": [],
   "source": [
    "num_classes = len(train_ds.class_names)\n",
    "class_names = train_ds.class_names"
   ]
  },
  {
   "cell_type": "code",
   "execution_count": 11,
   "metadata": {
    "execution": {
     "iopub.execute_input": "2025-06-12T15:34:17.208551Z",
     "iopub.status.busy": "2025-06-12T15:34:17.208209Z",
     "iopub.status.idle": "2025-06-12T15:34:21.619200Z",
     "shell.execute_reply": "2025-06-12T15:34:21.618297Z",
     "shell.execute_reply.started": "2025-06-12T15:34:17.208529Z"
    }
   },
   "outputs": [],
   "source": [
    "model.save(\"model-efficientnetv2l.keras\")"
   ]
  },
  {
   "cell_type": "code",
   "execution_count": 8,
   "metadata": {
    "execution": {
     "iopub.execute_input": "2025-06-12T15:31:08.620996Z",
     "iopub.status.busy": "2025-06-12T15:31:08.620347Z",
     "iopub.status.idle": "2025-06-12T15:31:09.402466Z",
     "shell.execute_reply": "2025-06-12T15:31:09.401729Z",
     "shell.execute_reply.started": "2025-06-12T15:31:08.620960Z"
    }
   },
   "outputs": [
    {
     "name": "stdout",
     "output_type": "stream",
     "text": [
      "Downloading data from https://teketrek.net/wp-content/uploads/2024/05/%D9%83%D9%84%D8%A8-%D8%A7%D9%84%D9%85%D8%A7%D9%84%D8%B7%D9%8A.webp\n",
      "\u001b[1m97714/97714\u001b[0m \u001b[32m━━━━━━━━━━━━━━━━━━━━\u001b[0m\u001b[37m\u001b[0m \u001b[1m0s\u001b[0m 1us/step\n"
     ]
    }
   ],
   "source": [
    "maltese_url = \"https://teketrek.net/wp-content/uploads/2024/05/%D9%83%D9%84%D8%A8-%D8%A7%D9%84%D9%85%D8%A7%D9%84%D8%B7%D9%8A.webp\"\n",
    "maltese_path = tf.keras.utils.get_file(\"Maltese\", origin=maltese_url)"
   ]
  },
  {
   "cell_type": "code",
   "execution_count": 9,
   "metadata": {
    "execution": {
     "iopub.execute_input": "2025-06-12T15:31:23.218562Z",
     "iopub.status.busy": "2025-06-12T15:31:23.218243Z",
     "iopub.status.idle": "2025-06-12T15:31:23.513189Z",
     "shell.execute_reply": "2025-06-12T15:31:23.512242Z",
     "shell.execute_reply.started": "2025-06-12T15:31:23.218538Z"
    }
   },
   "outputs": [],
   "source": [
    "img = tf.keras.utils.load_img(maltese_path, target_size=(img_height, img_width))\n",
    "img_array = tf.keras.utils.img_to_array(img)\n",
    "img_array = tf.expand_dims(img_array, 0)"
   ]
  },
  {
   "cell_type": "code",
   "execution_count": 10,
   "metadata": {
    "execution": {
     "iopub.execute_input": "2025-06-12T15:31:43.746202Z",
     "iopub.status.busy": "2025-06-12T15:31:43.745838Z",
     "iopub.status.idle": "2025-06-12T15:32:12.643367Z",
     "shell.execute_reply": "2025-06-12T15:32:12.642390Z",
     "shell.execute_reply.started": "2025-06-12T15:31:43.746178Z"
    }
   },
   "outputs": [
    {
     "name": "stdout",
     "output_type": "stream",
     "text": [
      "\u001b[1m1/1\u001b[0m \u001b[32m━━━━━━━━━━━━━━━━━━━━\u001b[0m\u001b[37m\u001b[0m \u001b[1m29s\u001b[0m 29s/step\n",
      "This image most likely belongs to n02085936-Maltese_dog with a 94.42 percent confidence.\n"
     ]
    }
   ],
   "source": [
    "predictions = model.predict(img_array)\n",
    "score = predictions[0]\n",
    "\n",
    "print(\n",
    "    \"This image most likely belongs to {} with a {:.2f} percent confidence.\".format(\n",
    "        class_names[np.argmax(score)], 100 * np.max(score)\n",
    "    )\n",
    ")"
   ]
  }
 ],
 "metadata": {
  "kaggle": {
   "accelerator": "nvidiaTeslaT4",
   "dataSources": [
    {
     "datasetId": 119698,
     "sourceId": 791828,
     "sourceType": "datasetVersion"
    }
   ],
   "dockerImageVersionId": 31041,
   "isGpuEnabled": true,
   "isInternetEnabled": true,
   "language": "python",
   "sourceType": "notebook"
  },
  "kernelspec": {
   "display_name": "Python 3 (ipykernel)",
   "language": "python",
   "name": "python3"
  },
  "language_info": {
   "codemirror_mode": {
    "name": "ipython",
    "version": 3
   },
   "file_extension": ".py",
   "mimetype": "text/x-python",
   "name": "python",
   "nbconvert_exporter": "python",
   "pygments_lexer": "ipython3",
   "version": "3.10.6"
  }
 },
 "nbformat": 4,
 "nbformat_minor": 4
}
