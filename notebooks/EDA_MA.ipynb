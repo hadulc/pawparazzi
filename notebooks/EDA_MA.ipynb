{
 "cells": [
  {
   "cell_type": "code",
   "execution_count": 1,
   "id": "349a164f-1918-413d-b551-a72289214b69",
   "metadata": {
    "execution": {
     "iopub.execute_input": "2025-06-09T14:30:45.895783Z",
     "iopub.status.busy": "2025-06-09T14:30:45.892385Z",
     "iopub.status.idle": "2025-06-09T14:30:45.943162Z",
     "shell.execute_reply": "2025-06-09T14:30:45.938238Z",
     "shell.execute_reply.started": "2025-06-09T14:30:45.895673Z"
    }
   },
   "outputs": [],
   "source": [
    "%load_ext autoreload\n",
    "%autoreload 2"
   ]
  },
  {
   "cell_type": "code",
   "execution_count": 2,
   "id": "055da3e0-4149-492d-9ace-fae4f671531c",
   "metadata": {
    "execution": {
     "iopub.execute_input": "2025-06-09T14:30:45.947921Z",
     "iopub.status.busy": "2025-06-09T14:30:45.945816Z",
     "iopub.status.idle": "2025-06-09T14:30:53.335109Z",
     "shell.execute_reply": "2025-06-09T14:30:53.333214Z",
     "shell.execute_reply.started": "2025-06-09T14:30:45.947866Z"
    }
   },
   "outputs": [
    {
     "name": "stderr",
     "output_type": "stream",
     "text": [
      "2025-06-09 16:30:47.453967: E external/local_xla/xla/stream_executor/cuda/cuda_fft.cc:467] Unable to register cuFFT factory: Attempting to register factory for plugin cuFFT when one has already been registered\n",
      "WARNING: All log messages before absl::InitializeLog() is called are written to STDERR\n",
      "E0000 00:00:1749479447.509722  533720 cuda_dnn.cc:8579] Unable to register cuDNN factory: Attempting to register factory for plugin cuDNN when one has already been registered\n",
      "E0000 00:00:1749479447.517776  533720 cuda_blas.cc:1407] Unable to register cuBLAS factory: Attempting to register factory for plugin cuBLAS when one has already been registered\n",
      "W0000 00:00:1749479447.537807  533720 computation_placer.cc:177] computation placer already registered. Please check linkage and avoid linking the same target more than once.\n",
      "W0000 00:00:1749479447.537837  533720 computation_placer.cc:177] computation placer already registered. Please check linkage and avoid linking the same target more than once.\n",
      "W0000 00:00:1749479447.537839  533720 computation_placer.cc:177] computation placer already registered. Please check linkage and avoid linking the same target more than once.\n",
      "W0000 00:00:1749479447.537841  533720 computation_placer.cc:177] computation placer already registered. Please check linkage and avoid linking the same target more than once.\n"
     ]
    }
   ],
   "source": [
    "import matplotlib.pyplot as plt\n",
    "import numpy as np\n",
    "import PIL\n",
    "import tensorflow as tf\n",
    "\n",
    "from tensorflow import keras\n",
    "from tensorflow.keras import layers\n",
    "from tensorflow.keras.models import Sequential"
   ]
  },
  {
   "cell_type": "code",
   "execution_count": 3,
   "id": "863896ea-2b61-4333-ba6e-f96cb8b2c573",
   "metadata": {
    "execution": {
     "iopub.execute_input": "2025-06-09T14:30:53.338473Z",
     "iopub.status.busy": "2025-06-09T14:30:53.337871Z",
     "iopub.status.idle": "2025-06-09T14:30:53.408390Z",
     "shell.execute_reply": "2025-06-09T14:30:53.405874Z",
     "shell.execute_reply.started": "2025-06-09T14:30:53.338438Z"
    },
    "jupyter": {
     "source_hidden": true
    }
   },
   "outputs": [],
   "source": [
    "images_path = '/home/mary/code/maryacuna93/pawparazzi/raw_data/archive/images/Images'"
   ]
  },
  {
   "cell_type": "code",
   "execution_count": 4,
   "id": "4c9a6d2d-88cc-4c00-a553-48e0815af597",
   "metadata": {
    "execution": {
     "iopub.execute_input": "2025-06-09T14:30:53.410716Z",
     "iopub.status.busy": "2025-06-09T14:30:53.410237Z",
     "iopub.status.idle": "2025-06-09T14:30:53.486585Z",
     "shell.execute_reply": "2025-06-09T14:30:53.480823Z",
     "shell.execute_reply.started": "2025-06-09T14:30:53.410672Z"
    }
   },
   "outputs": [],
   "source": [
    "import os\n",
    "import pandas as pd\n",
    "\n",
    "def count_files_in_subfolders(parent_folder):\n",
    "    if not os.path.isdir(parent_folder):\n",
    "        print(f\"Error: '{parent_folder}' is not a valid directory.\")\n",
    "        return None\n",
    "\n",
    "    print(f\"Counting files in subfolders of: {parent_folder}\\n\")\n",
    "\n",
    "    results = []\n",
    "\n",
    "    for item_name in os.listdir(parent_folder):\n",
    "        item_path = os.path.join(parent_folder, item_name)\n",
    "\n",
    "        if os.path.isdir(item_path):\n",
    "            file_count = 0\n",
    "            for sub_item_name in os.listdir(item_path):\n",
    "                sub_item_path = os.path.join(item_path, sub_item_name)\n",
    "                if os.path.isfile(sub_item_path):\n",
    "                    file_count += 1\n",
    "\n",
    "            results.append({\n",
    "                'Folder Name': item_name,\n",
    "                'File Count': file_count\n",
    "            })\n",
    "\n",
    "\n",
    "    df = pd.DataFrame(results)\n",
    "    return df\n"
   ]
  },
  {
   "cell_type": "code",
   "execution_count": 5,
   "id": "405db2a7-315c-4ea8-bf3b-486a83f7abfd",
   "metadata": {
    "execution": {
     "iopub.execute_input": "2025-06-09T14:30:53.489159Z",
     "iopub.status.busy": "2025-06-09T14:30:53.488748Z",
     "iopub.status.idle": "2025-06-09T14:30:54.079521Z",
     "shell.execute_reply": "2025-06-09T14:30:54.077568Z",
     "shell.execute_reply.started": "2025-06-09T14:30:53.489127Z"
    }
   },
   "outputs": [
    {
     "name": "stdout",
     "output_type": "stream",
     "text": [
      "Counting files in subfolders of: /home/mary/code/maryacuna93/pawparazzi/raw_data/archive/images/Images\n",
      "\n"
     ]
    }
   ],
   "source": [
    "df = count_files_in_subfolders(images_path)"
   ]
  },
  {
   "cell_type": "code",
   "execution_count": 6,
   "id": "279ef49c-5b2a-412d-8df0-e4077442dc43",
   "metadata": {
    "execution": {
     "iopub.execute_input": "2025-06-09T14:30:54.083007Z",
     "iopub.status.busy": "2025-06-09T14:30:54.082417Z",
     "iopub.status.idle": "2025-06-09T14:30:54.167251Z",
     "shell.execute_reply": "2025-06-09T14:30:54.160828Z",
     "shell.execute_reply.started": "2025-06-09T14:30:54.082962Z"
    }
   },
   "outputs": [
    {
     "data": {
      "text/html": [
       "<div>\n",
       "<style scoped>\n",
       "    .dataframe tbody tr th:only-of-type {\n",
       "        vertical-align: middle;\n",
       "    }\n",
       "\n",
       "    .dataframe tbody tr th {\n",
       "        vertical-align: top;\n",
       "    }\n",
       "\n",
       "    .dataframe thead th {\n",
       "        text-align: right;\n",
       "    }\n",
       "</style>\n",
       "<table border=\"1\" class=\"dataframe\">\n",
       "  <thead>\n",
       "    <tr style=\"text-align: right;\">\n",
       "      <th></th>\n",
       "      <th>Folder Name</th>\n",
       "      <th>File Count</th>\n",
       "    </tr>\n",
       "  </thead>\n",
       "  <tbody>\n",
       "    <tr>\n",
       "      <th>0</th>\n",
       "      <td>n02105056-groenendael</td>\n",
       "      <td>300</td>\n",
       "    </tr>\n",
       "    <tr>\n",
       "      <th>1</th>\n",
       "      <td>n02097658-silky_terrier</td>\n",
       "      <td>366</td>\n",
       "    </tr>\n",
       "    <tr>\n",
       "      <th>2</th>\n",
       "      <td>n02086079-Pekinese</td>\n",
       "      <td>298</td>\n",
       "    </tr>\n",
       "    <tr>\n",
       "      <th>3</th>\n",
       "      <td>n02113186-Cardigan</td>\n",
       "      <td>310</td>\n",
       "    </tr>\n",
       "    <tr>\n",
       "      <th>4</th>\n",
       "      <td>n02093991-Irish_terrier</td>\n",
       "      <td>338</td>\n",
       "    </tr>\n",
       "    <tr>\n",
       "      <th>...</th>\n",
       "      <td>...</td>\n",
       "      <td>...</td>\n",
       "    </tr>\n",
       "    <tr>\n",
       "      <th>115</th>\n",
       "      <td>n02087046-toy_terrier</td>\n",
       "      <td>344</td>\n",
       "    </tr>\n",
       "    <tr>\n",
       "      <th>116</th>\n",
       "      <td>n02112137-chow</td>\n",
       "      <td>392</td>\n",
       "    </tr>\n",
       "    <tr>\n",
       "      <th>117</th>\n",
       "      <td>n02090622-borzoi</td>\n",
       "      <td>302</td>\n",
       "    </tr>\n",
       "    <tr>\n",
       "      <th>118</th>\n",
       "      <td>n02086646-Blenheim_spaniel</td>\n",
       "      <td>376</td>\n",
       "    </tr>\n",
       "    <tr>\n",
       "      <th>119</th>\n",
       "      <td>n02101556-clumber</td>\n",
       "      <td>300</td>\n",
       "    </tr>\n",
       "  </tbody>\n",
       "</table>\n",
       "<p>120 rows × 2 columns</p>\n",
       "</div>"
      ],
      "text/plain": [
       "                    Folder Name  File Count\n",
       "0         n02105056-groenendael         300\n",
       "1       n02097658-silky_terrier         366\n",
       "2            n02086079-Pekinese         298\n",
       "3            n02113186-Cardigan         310\n",
       "4       n02093991-Irish_terrier         338\n",
       "..                          ...         ...\n",
       "115       n02087046-toy_terrier         344\n",
       "116              n02112137-chow         392\n",
       "117            n02090622-borzoi         302\n",
       "118  n02086646-Blenheim_spaniel         376\n",
       "119           n02101556-clumber         300\n",
       "\n",
       "[120 rows x 2 columns]"
      ]
     },
     "execution_count": 6,
     "metadata": {},
     "output_type": "execute_result"
    }
   ],
   "source": [
    "df"
   ]
  },
  {
   "cell_type": "code",
   "execution_count": 7,
   "id": "fe59002f-d01c-4177-99e1-2fc12c26ab0c",
   "metadata": {
    "execution": {
     "iopub.execute_input": "2025-06-09T14:30:54.170146Z",
     "iopub.status.busy": "2025-06-09T14:30:54.169647Z",
     "iopub.status.idle": "2025-06-09T14:30:54.228458Z",
     "shell.execute_reply": "2025-06-09T14:30:54.227163Z",
     "shell.execute_reply.started": "2025-06-09T14:30:54.170097Z"
    }
   },
   "outputs": [],
   "source": [
    "from tensorflow.keras.utils import image_dataset_from_directory "
   ]
  },
  {
   "cell_type": "code",
   "execution_count": null,
   "id": "da932bb4-7a05-451a-a910-7d6a21e0e346",
   "metadata": {},
   "outputs": [],
   "source": []
  }
 ],
 "metadata": {
  "kernelspec": {
   "display_name": "Python 3 (ipykernel)",
   "language": "python",
   "name": "python3"
  },
  "language_info": {
   "codemirror_mode": {
    "name": "ipython",
    "version": 3
   },
   "file_extension": ".py",
   "mimetype": "text/x-python",
   "name": "python",
   "nbconvert_exporter": "python",
   "pygments_lexer": "ipython3",
   "version": "3.10.6"
  }
 },
 "nbformat": 4,
 "nbformat_minor": 5
}
