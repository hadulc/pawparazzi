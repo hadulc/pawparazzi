{
 "cells": [
  {
   "cell_type": "code",
   "execution_count": 1,
   "id": "73db488d-27cb-46a7-9d59-0d0ece8565a9",
   "metadata": {
    "execution": {
     "iopub.execute_input": "2025-06-13T08:41:38.928520Z",
     "iopub.status.busy": "2025-06-13T08:41:38.928024Z",
     "iopub.status.idle": "2025-06-13T08:41:44.154265Z",
     "shell.execute_reply": "2025-06-13T08:41:44.153022Z",
     "shell.execute_reply.started": "2025-06-13T08:41:38.928490Z"
    }
   },
   "outputs": [
    {
     "name": "stderr",
     "output_type": "stream",
     "text": [
      "2025-06-13 10:41:39.569088: E external/local_xla/xla/stream_executor/cuda/cuda_fft.cc:467] Unable to register cuFFT factory: Attempting to register factory for plugin cuFFT when one has already been registered\n",
      "WARNING: All log messages before absl::InitializeLog() is called are written to STDERR\n",
      "E0000 00:00:1749804099.594190   21878 cuda_dnn.cc:8579] Unable to register cuDNN factory: Attempting to register factory for plugin cuDNN when one has already been registered\n",
      "E0000 00:00:1749804099.603303   21878 cuda_blas.cc:1407] Unable to register cuBLAS factory: Attempting to register factory for plugin cuBLAS when one has already been registered\n",
      "W0000 00:00:1749804099.631718   21878 computation_placer.cc:177] computation placer already registered. Please check linkage and avoid linking the same target more than once.\n",
      "W0000 00:00:1749804099.631746   21878 computation_placer.cc:177] computation placer already registered. Please check linkage and avoid linking the same target more than once.\n",
      "W0000 00:00:1749804099.631747   21878 computation_placer.cc:177] computation placer already registered. Please check linkage and avoid linking the same target more than once.\n",
      "W0000 00:00:1749804099.631749   21878 computation_placer.cc:177] computation placer already registered. Please check linkage and avoid linking the same target more than once.\n"
     ]
    }
   ],
   "source": [
    "import tensorflow as tf"
   ]
  },
  {
   "cell_type": "code",
   "execution_count": 2,
   "id": "945d2ea3-9ec0-49e2-b7b8-045d30412b80",
   "metadata": {
    "execution": {
     "iopub.execute_input": "2025-06-13T08:41:44.156231Z",
     "iopub.status.busy": "2025-06-13T08:41:44.155820Z",
     "iopub.status.idle": "2025-06-13T08:41:44.169920Z",
     "shell.execute_reply": "2025-06-13T08:41:44.168013Z",
     "shell.execute_reply.started": "2025-06-13T08:41:44.156207Z"
    }
   },
   "outputs": [],
   "source": [
    "class_names = [\n",
    "    \"Chihuahua\",\n",
    "    \"Japanese Spaniel\",\n",
    "    \"Maltese Dog\",\n",
    "    \"Pekinese\",\n",
    "    \"Shih-tzu\",\n",
    "    \"Blenheim Spaniel\",\n",
    "    \"Papillon\",\n",
    "    \"Toy Terrier\",\n",
    "    \"Rhodesian Ridgeback\",\n",
    "    \"Afghan Hound\",\n",
    "    \"Basset\",\n",
    "    \"Beagle\",\n",
    "    \"Bloodhound\",\n",
    "    \"Bluetick\",\n",
    "    \"Black-and-tan Coonhound\",\n",
    "    \"Walker Hound\",\n",
    "    \"English Foxhound\",\n",
    "    \"Redbone\",\n",
    "    \"Borzoi\",\n",
    "    \"Irish Wolfhound\",\n",
    "    \"Italian Greyhound\",\n",
    "    \"Whippet\",\n",
    "    \"Ibizan Hound\",\n",
    "    \"Norwegian Elkhound\",\n",
    "    \"Otterhound\",\n",
    "    \"Saluki\",\n",
    "    \"Scottish Deerhound\",\n",
    "    \"Weimaraner\",\n",
    "    \"Staffordshire Bullterrier\",\n",
    "    \"American Staffordshire Terrier\",\n",
    "    \"Bedlington Terrier\",\n",
    "    \"Border Terrier\",\n",
    "    \"Kerry Blue Terrier\",\n",
    "    \"Irish Terrier\",\n",
    "    \"Norfolk Terrier\",\n",
    "    \"Norwich Terrier\",\n",
    "    \"Yorkshire Terrier\",\n",
    "    \"Wire-haired Fox Terrier\",\n",
    "    \"Lakeland Terrier\",\n",
    "    \"Sealyham Terrier\",\n",
    "    \"Airedale\",\n",
    "    \"Cairn\",\n",
    "    \"Australian Terrier\",\n",
    "    \"Dandie Dinmont\",\n",
    "    \"Boston Bull\",\n",
    "    \"Miniature Schnauzer\",\n",
    "    \"Giant Schnauzer\",\n",
    "    \"Standard Schnauzer\",\n",
    "    \"Scotch Terrier\",\n",
    "    \"Tibetan Terrier\",\n",
    "    \"Silky Terrier\",\n",
    "    \"Soft-coated Wheaten Terrier\",\n",
    "    \"West Highland White Terrier\",\n",
    "    \"Lhasa\",\n",
    "    \"Flat-coated Retriever\",\n",
    "    \"Curly-coated Retriever\",\n",
    "    \"Golden Retriever\",\n",
    "    \"Labrador Retriever\",\n",
    "    \"Chesapeake Bay Retriever\",\n",
    "    \"German Short-haired Pointer\",\n",
    "    \"Vizsla\",\n",
    "    \"English Setter\",\n",
    "    \"Irish Setter\",\n",
    "    \"Gordon Setter\",\n",
    "    \"Brittany Spaniel\",\n",
    "    \"Clumber\",\n",
    "    \"English Springer\",\n",
    "    \"Welsh Springer Spaniel\",\n",
    "    \"Cocker Spaniel\",\n",
    "    \"Sussex Spaniel\",\n",
    "    \"Irish Water Spaniel\",\n",
    "    \"Kuvasz\",\n",
    "    \"Schipperke\",\n",
    "    \"Groenendael\",\n",
    "    \"Malinois\",\n",
    "    \"Briard\",\n",
    "    \"Kelpie\",\n",
    "    \"Komondor\",\n",
    "    \"Old English Sheepdog\",\n",
    "    \"Shetland Sheepdog\",\n",
    "    \"Collie\",\n",
    "    \"Border Collie\",\n",
    "    \"Bouvier Des Flandres\",\n",
    "    \"Rottweiler\",\n",
    "    \"German Shepherd\",\n",
    "    \"Doberman\",\n",
    "    \"Miniature Pinscher\",\n",
    "    \"Greater Swiss Mountain Dog\",\n",
    "    \"Bernese Mountain Dog\",\n",
    "    \"Appenzeller\",\n",
    "    \"Entlebucher\",\n",
    "    \"Boxer\",\n",
    "    \"Bull Mastiff\",\n",
    "    \"Tibetan Mastiff\",\n",
    "    \"French Bulldog\",\n",
    "    \"Great Dane\",\n",
    "    \"Saint Bernard\",\n",
    "    \"Eskimo Dog\",\n",
    "    \"Malamute\",\n",
    "    \"Siberian Husky\",\n",
    "    \"Affenpinscher\",\n",
    "    \"Basenji\",\n",
    "    \"Pug\",\n",
    "    \"Leonberg\",\n",
    "    \"Newfoundland\",\n",
    "    \"Great Pyrenees\",\n",
    "    \"Samoyed\",\n",
    "    \"Pomeranian\",\n",
    "    \"Chow\",\n",
    "    \"Keeshond\",\n",
    "    \"Brabancon Griffon\",\n",
    "    \"Pembroke\",\n",
    "    \"Cardigan\",\n",
    "    \"Toy Poodle\",\n",
    "    \"Miniature Poodle\",\n",
    "    \"Standard Poodle\",\n",
    "    \"Mexican Hairless\",\n",
    "    \"Dingo\",\n",
    "    \"Dhole\",\n",
    "    \"African Hunting Dog\",\n",
    "]"
   ]
  },
  {
   "cell_type": "code",
   "execution_count": 3,
   "id": "19aef9b3-530a-4db6-9a02-e06a7c652976",
   "metadata": {
    "execution": {
     "iopub.execute_input": "2025-06-13T08:41:44.172629Z",
     "iopub.status.busy": "2025-06-13T08:41:44.172294Z",
     "iopub.status.idle": "2025-06-13T08:41:48.238204Z",
     "shell.execute_reply": "2025-06-13T08:41:48.237185Z",
     "shell.execute_reply.started": "2025-06-13T08:41:44.172573Z"
    }
   },
   "outputs": [
    {
     "name": "stderr",
     "output_type": "stream",
     "text": [
      "2025-06-13 10:41:44.199951: E external/local_xla/xla/stream_executor/cuda/cuda_platform.cc:51] failed call to cuInit: INTERNAL: CUDA error: Failed call to cuInit: UNKNOWN ERROR (303)\n"
     ]
    }
   ],
   "source": [
    "model = tf.keras.models.load_model(\"../models/model-efficientnetv2s.keras\")"
   ]
  },
  {
   "cell_type": "code",
   "execution_count": 4,
   "id": "42765b78-bb34-40cf-8126-0e877771dd96",
   "metadata": {
    "execution": {
     "iopub.execute_input": "2025-06-13T08:41:48.243166Z",
     "iopub.status.busy": "2025-06-13T08:41:48.242194Z",
     "iopub.status.idle": "2025-06-13T08:41:48.250810Z",
     "shell.execute_reply": "2025-06-13T08:41:48.248459Z",
     "shell.execute_reply.started": "2025-06-13T08:41:48.243129Z"
    }
   },
   "outputs": [],
   "source": [
    "path = \"../test/pomerania.jpg\""
   ]
  },
  {
   "cell_type": "code",
   "execution_count": 5,
   "id": "1bea288e-e7e1-4723-b99c-39c936f32980",
   "metadata": {
    "execution": {
     "iopub.execute_input": "2025-06-13T08:41:48.253018Z",
     "iopub.status.busy": "2025-06-13T08:41:48.252340Z",
     "iopub.status.idle": "2025-06-13T08:41:48.267959Z",
     "shell.execute_reply": "2025-06-13T08:41:48.265253Z",
     "shell.execute_reply.started": "2025-06-13T08:41:48.252985Z"
    }
   },
   "outputs": [],
   "source": [
    "img_height = 224\n",
    "img_width = 224"
   ]
  },
  {
   "cell_type": "code",
   "execution_count": 6,
   "id": "71086cd8-6ae3-44ca-9522-67f13d23680a",
   "metadata": {
    "execution": {
     "iopub.execute_input": "2025-06-13T08:41:48.271123Z",
     "iopub.status.busy": "2025-06-13T08:41:48.270285Z",
     "iopub.status.idle": "2025-06-13T08:41:48.326255Z",
     "shell.execute_reply": "2025-06-13T08:41:48.325189Z",
     "shell.execute_reply.started": "2025-06-13T08:41:48.271087Z"
    }
   },
   "outputs": [],
   "source": [
    "img = tf.keras.utils.load_img(path, target_size=(img_height, img_width))\n",
    "img_array = tf.keras.utils.img_to_array(img)\n",
    "img_array = tf.expand_dims(img_array, 0)"
   ]
  },
  {
   "cell_type": "code",
   "execution_count": 7,
   "id": "35a12c8c-6a91-403e-ae3e-6b7a88e746b5",
   "metadata": {
    "execution": {
     "iopub.execute_input": "2025-06-13T08:41:48.327577Z",
     "iopub.status.busy": "2025-06-13T08:41:48.327263Z",
     "iopub.status.idle": "2025-06-13T08:41:48.333523Z",
     "shell.execute_reply": "2025-06-13T08:41:48.331642Z",
     "shell.execute_reply.started": "2025-06-13T08:41:48.327524Z"
    }
   },
   "outputs": [],
   "source": [
    "import numpy as np"
   ]
  },
  {
   "cell_type": "code",
   "execution_count": 8,
   "id": "f50242c3-976d-49b4-b5e1-17a98790c07a",
   "metadata": {
    "execution": {
     "iopub.execute_input": "2025-06-13T08:41:48.335185Z",
     "iopub.status.busy": "2025-06-13T08:41:48.334879Z",
     "iopub.status.idle": "2025-06-13T08:41:56.745617Z",
     "shell.execute_reply": "2025-06-13T08:41:56.744488Z",
     "shell.execute_reply.started": "2025-06-13T08:41:48.335159Z"
    }
   },
   "outputs": [
    {
     "name": "stderr",
     "output_type": "stream",
     "text": [
      "WARNING: All log messages before absl::InitializeLog() is called are written to STDERR\n",
      "I0000 00:00:1749804112.312276   23417 service.cc:152] XLA service 0x7f2a2001dc40 initialized for platform Host (this does not guarantee that XLA will be used). Devices:\n",
      "I0000 00:00:1749804112.312369   23417 service.cc:160]   StreamExecutor device (0): Host, Default Version\n",
      "I0000 00:00:1749804116.495989   23417 device_compiler.h:188] Compiled cluster using XLA!  This line is logged at most once for the lifetime of the process.\n"
     ]
    },
    {
     "name": "stdout",
     "output_type": "stream",
     "text": [
      "\u001b[1m1/1\u001b[0m \u001b[32m━━━━━━━━━━━━━━━━━━━━\u001b[0m\u001b[37m\u001b[0m \u001b[1m8s\u001b[0m 8s/step\n",
      "This image most likely belongs to Pomeranian with a 99.72 percent confidence.\n"
     ]
    }
   ],
   "source": [
    "predictions = model.predict(img_array)\n",
    "score = predictions[0]\n",
    "\n",
    "print(\n",
    "    \"This image most likely belongs to {} with a {:.2f} percent confidence.\".format(\n",
    "        class_names[np.argmax(score)], 100 * np.max(score)\n",
    "    )\n",
    ")"
   ]
  },
  {
   "cell_type": "code",
   "execution_count": 9,
   "id": "d595b28b-a3ab-43ff-a1a2-da87fedf5bf0",
   "metadata": {
    "execution": {
     "iopub.execute_input": "2025-06-13T08:41:56.747104Z",
     "iopub.status.busy": "2025-06-13T08:41:56.746784Z",
     "iopub.status.idle": "2025-06-13T08:41:56.756106Z",
     "shell.execute_reply": "2025-06-13T08:41:56.753552Z",
     "shell.execute_reply.started": "2025-06-13T08:41:56.747077Z"
    }
   },
   "outputs": [],
   "source": [
    "path2 = \"../test/samoyed.jpg\""
   ]
  },
  {
   "cell_type": "code",
   "execution_count": 10,
   "id": "5e10aff3-cbc4-4566-93bd-91540100b420",
   "metadata": {
    "execution": {
     "iopub.execute_input": "2025-06-13T08:41:56.763286Z",
     "iopub.status.busy": "2025-06-13T08:41:56.761267Z",
     "iopub.status.idle": "2025-06-13T08:41:56.852578Z",
     "shell.execute_reply": "2025-06-13T08:41:56.850371Z",
     "shell.execute_reply.started": "2025-06-13T08:41:56.763237Z"
    }
   },
   "outputs": [],
   "source": [
    "img2 = tf.keras.utils.load_img(path2, target_size=(img_height, img_width))\n",
    "img_array2 = tf.keras.utils.img_to_array(img2)\n",
    "img_array2 = tf.expand_dims(img_array2, 0)"
   ]
  },
  {
   "cell_type": "code",
   "execution_count": 11,
   "id": "171d4b03-edbf-4685-bfff-b8ee298e65a7",
   "metadata": {
    "execution": {
     "iopub.execute_input": "2025-06-13T08:41:56.854398Z",
     "iopub.status.busy": "2025-06-13T08:41:56.853783Z",
     "iopub.status.idle": "2025-06-13T08:41:57.167622Z",
     "shell.execute_reply": "2025-06-13T08:41:57.165824Z",
     "shell.execute_reply.started": "2025-06-13T08:41:56.854271Z"
    }
   },
   "outputs": [
    {
     "name": "stdout",
     "output_type": "stream",
     "text": [
      "\u001b[1m1/1\u001b[0m \u001b[32m━━━━━━━━━━━━━━━━━━━━\u001b[0m\u001b[37m\u001b[0m \u001b[1m0s\u001b[0m 242ms/step\n",
      "This image most likely belongs to Pekinese with a 47.16 percent confidence.\n"
     ]
    }
   ],
   "source": [
    "predictions = model.predict(img_array2)\n",
    "score = predictions[0]\n",
    "\n",
    "print(\n",
    "    \"This image most likely belongs to {} with a {:.2f} percent confidence.\".format(\n",
    "        class_names[np.argmax(score)], 100 * np.max(score)\n",
    "    )\n",
    ")"
   ]
  },
  {
   "cell_type": "code",
   "execution_count": 12,
   "id": "77c996cc-7284-4627-b6a3-f2774a0a1f2a",
   "metadata": {
    "execution": {
     "iopub.execute_input": "2025-06-13T08:41:57.170324Z",
     "iopub.status.busy": "2025-06-13T08:41:57.169202Z",
     "iopub.status.idle": "2025-06-13T08:41:57.183350Z",
     "shell.execute_reply": "2025-06-13T08:41:57.179032Z",
     "shell.execute_reply.started": "2025-06-13T08:41:57.170277Z"
    }
   },
   "outputs": [],
   "source": [
    "path3 = \"../test/greater_swiss_test_image.JPG\""
   ]
  },
  {
   "cell_type": "code",
   "execution_count": 13,
   "id": "b1072243-9460-4c59-9509-9b698cbf4db4",
   "metadata": {
    "execution": {
     "iopub.execute_input": "2025-06-13T08:41:57.189362Z",
     "iopub.status.busy": "2025-06-13T08:41:57.187696Z",
     "iopub.status.idle": "2025-06-13T08:41:57.216279Z",
     "shell.execute_reply": "2025-06-13T08:41:57.214558Z",
     "shell.execute_reply.started": "2025-06-13T08:41:57.189292Z"
    }
   },
   "outputs": [],
   "source": [
    "img3 = tf.keras.utils.load_img(path3, target_size=(img_height, img_width))\n",
    "img_array3 = tf.keras.utils.img_to_array(img3)\n",
    "img_array3 = tf.expand_dims(img_array3, 0)"
   ]
  },
  {
   "cell_type": "code",
   "execution_count": 14,
   "id": "bad7bab0-b090-4b1a-b2ac-f5e44caf1526",
   "metadata": {
    "execution": {
     "iopub.execute_input": "2025-06-13T08:41:57.219445Z",
     "iopub.status.busy": "2025-06-13T08:41:57.219074Z",
     "iopub.status.idle": "2025-06-13T08:41:57.489419Z",
     "shell.execute_reply": "2025-06-13T08:41:57.488168Z",
     "shell.execute_reply.started": "2025-06-13T08:41:57.219414Z"
    }
   },
   "outputs": [
    {
     "name": "stdout",
     "output_type": "stream",
     "text": [
      "\u001b[1m1/1\u001b[0m \u001b[32m━━━━━━━━━━━━━━━━━━━━\u001b[0m\u001b[37m\u001b[0m \u001b[1m0s\u001b[0m 209ms/step\n",
      "This image most likely belongs to Appenzeller with a 82.69 percent confidence.\n"
     ]
    }
   ],
   "source": [
    "predictions = model.predict(img_array3)\n",
    "score = predictions[0]\n",
    "\n",
    "print(\n",
    "    \"This image most likely belongs to {} with a {:.2f} percent confidence.\".format(\n",
    "        class_names[np.argmax(score)], 100 * np.max(score)\n",
    "    )\n",
    ")"
   ]
  },
  {
   "cell_type": "code",
   "execution_count": 17,
   "id": "e7a7a006-5e3f-4d05-9e9b-402560373803",
   "metadata": {
    "execution": {
     "iopub.execute_input": "2025-06-13T08:44:20.680803Z",
     "iopub.status.busy": "2025-06-13T08:44:20.679347Z",
     "iopub.status.idle": "2025-06-13T08:44:20.689331Z",
     "shell.execute_reply": "2025-06-13T08:44:20.686993Z",
     "shell.execute_reply.started": "2025-06-13T08:44:20.680747Z"
    }
   },
   "outputs": [],
   "source": [
    "path4 = \"../test/labrador_test_image.jpg\""
   ]
  },
  {
   "cell_type": "code",
   "execution_count": 18,
   "id": "f44e5a44-782e-414f-8c72-c2252a8b1a29",
   "metadata": {
    "execution": {
     "iopub.execute_input": "2025-06-13T08:44:21.851443Z",
     "iopub.status.busy": "2025-06-13T08:44:21.850018Z",
     "iopub.status.idle": "2025-06-13T08:44:21.879441Z",
     "shell.execute_reply": "2025-06-13T08:44:21.877163Z",
     "shell.execute_reply.started": "2025-06-13T08:44:21.851379Z"
    }
   },
   "outputs": [],
   "source": [
    "img4 = tf.keras.utils.load_img(path4, target_size=(img_height, img_width))\n",
    "img_array4 = tf.keras.utils.img_to_array(img4)\n",
    "img_array4 = tf.expand_dims(img_array4, 0)"
   ]
  },
  {
   "cell_type": "code",
   "execution_count": 19,
   "id": "35fe6c80-f796-4ead-a3bc-eb93343981a2",
   "metadata": {
    "execution": {
     "iopub.execute_input": "2025-06-13T08:44:32.142277Z",
     "iopub.status.busy": "2025-06-13T08:44:32.140172Z",
     "iopub.status.idle": "2025-06-13T08:44:32.444978Z",
     "shell.execute_reply": "2025-06-13T08:44:32.443335Z",
     "shell.execute_reply.started": "2025-06-13T08:44:32.142178Z"
    }
   },
   "outputs": [
    {
     "name": "stdout",
     "output_type": "stream",
     "text": [
      "\u001b[1m1/1\u001b[0m \u001b[32m━━━━━━━━━━━━━━━━━━━━\u001b[0m\u001b[37m\u001b[0m \u001b[1m0s\u001b[0m 202ms/step\n",
      "This image most likely belongs to Chesapeake Bay Retriever with a 98.53 percent confidence.\n"
     ]
    }
   ],
   "source": [
    "predictions = model.predict(img_array4)\n",
    "score = predictions[0]\n",
    "\n",
    "print(\n",
    "    \"This image most likely belongs to {} with a {:.2f} percent confidence.\".format(\n",
    "        class_names[np.argmax(score)], 100 * np.max(score)\n",
    "    )\n",
    ")"
   ]
  },
  {
   "cell_type": "code",
   "execution_count": 20,
   "id": "e7c8d176-bc70-41f2-8196-ec6638d9b439",
   "metadata": {
    "execution": {
     "iopub.execute_input": "2025-06-13T08:46:50.571543Z",
     "iopub.status.busy": "2025-06-13T08:46:50.568411Z",
     "iopub.status.idle": "2025-06-13T08:46:50.581867Z",
     "shell.execute_reply": "2025-06-13T08:46:50.578317Z",
     "shell.execute_reply.started": "2025-06-13T08:46:50.571489Z"
    }
   },
   "outputs": [],
   "source": [
    "path5 = \"../test/labradoodle.jpg\""
   ]
  },
  {
   "cell_type": "code",
   "execution_count": 21,
   "id": "30eac5fa-506c-479f-8758-ced3161aa21d",
   "metadata": {
    "execution": {
     "iopub.execute_input": "2025-06-13T08:47:09.539626Z",
     "iopub.status.busy": "2025-06-13T08:47:09.538799Z",
     "iopub.status.idle": "2025-06-13T08:47:09.610399Z",
     "shell.execute_reply": "2025-06-13T08:47:09.608447Z",
     "shell.execute_reply.started": "2025-06-13T08:47:09.539570Z"
    }
   },
   "outputs": [],
   "source": [
    "img5 = tf.keras.utils.load_img(path5, target_size=(img_height, img_width))\n",
    "img_array5 = tf.keras.utils.img_to_array(img5)\n",
    "img_array5 = tf.expand_dims(img_array5, 0)"
   ]
  },
  {
   "cell_type": "code",
   "execution_count": 22,
   "id": "b1c624a3-1568-44e5-91ba-010af6ede173",
   "metadata": {
    "execution": {
     "iopub.execute_input": "2025-06-13T08:47:18.554961Z",
     "iopub.status.busy": "2025-06-13T08:47:18.554127Z",
     "iopub.status.idle": "2025-06-13T08:47:18.831756Z",
     "shell.execute_reply": "2025-06-13T08:47:18.830685Z",
     "shell.execute_reply.started": "2025-06-13T08:47:18.554906Z"
    }
   },
   "outputs": [
    {
     "name": "stdout",
     "output_type": "stream",
     "text": [
      "\u001b[1m1/1\u001b[0m \u001b[32m━━━━━━━━━━━━━━━━━━━━\u001b[0m\u001b[37m\u001b[0m \u001b[1m0s\u001b[0m 186ms/step\n",
      "This image most likely belongs to Curly-coated Retriever with a 37.77 percent confidence.\n"
     ]
    }
   ],
   "source": [
    "predictions = model.predict(img_array5)\n",
    "score = predictions[0]\n",
    "\n",
    "print(\n",
    "    \"This image most likely belongs to {} with a {:.2f} percent confidence.\".format(\n",
    "        class_names[np.argmax(score)], 100 * np.max(score)\n",
    "    )\n",
    ")"
   ]
  },
  {
   "cell_type": "code",
   "execution_count": null,
   "id": "c791f279-01d8-48d5-a2f8-1c364d40c038",
   "metadata": {},
   "outputs": [],
   "source": []
  }
 ],
 "metadata": {
  "kernelspec": {
   "display_name": "Python 3 (ipykernel)",
   "language": "python",
   "name": "python3"
  },
  "language_info": {
   "codemirror_mode": {
    "name": "ipython",
    "version": 3
   },
   "file_extension": ".py",
   "mimetype": "text/x-python",
   "name": "python",
   "nbconvert_exporter": "python",
   "pygments_lexer": "ipython3",
   "version": "3.10.6"
  }
 },
 "nbformat": 4,
 "nbformat_minor": 5
}
