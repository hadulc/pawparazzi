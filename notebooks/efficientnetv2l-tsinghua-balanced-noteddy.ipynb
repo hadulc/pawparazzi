{
 "cells": [
  {
   "cell_type": "code",
   "execution_count": 1,
   "id": "a45294e2",
   "metadata": {
    "execution": {
     "iopub.execute_input": "2025-06-16T18:42:00.586192Z",
     "iopub.status.busy": "2025-06-16T18:42:00.585906Z",
     "iopub.status.idle": "2025-06-16T18:42:27.239816Z",
     "shell.execute_reply": "2025-06-16T18:42:27.239114Z"
    },
    "papermill": {
     "duration": 26.659427,
     "end_time": "2025-06-16T18:42:27.241408",
     "exception": false,
     "start_time": "2025-06-16T18:42:00.581981",
     "status": "completed"
    },
    "tags": []
   },
   "outputs": [
    {
     "name": "stderr",
     "output_type": "stream",
     "text": [
      "2025-06-16 18:42:04.286025: E external/local_xla/xla/stream_executor/cuda/cuda_fft.cc:477] Unable to register cuFFT factory: Attempting to register factory for plugin cuFFT when one has already been registered\n",
      "WARNING: All log messages before absl::InitializeLog() is called are written to STDERR\n",
      "E0000 00:00:1750099324.780487      19 cuda_dnn.cc:8310] Unable to register cuDNN factory: Attempting to register factory for plugin cuDNN when one has already been registered\n",
      "E0000 00:00:1750099324.914333      19 cuda_blas.cc:1418] Unable to register cuBLAS factory: Attempting to register factory for plugin cuBLAS when one has already been registered\n"
     ]
    }
   ],
   "source": [
    "import matplotlib.pyplot as plt\n",
    "import numpy as np\n",
    "import PIL\n",
    "import tensorflow as tf\n",
    "\n",
    "from tensorflow import keras\n",
    "from tensorflow.keras import layers\n",
    "from tensorflow.keras.models import Sequential"
   ]
  },
  {
   "cell_type": "code",
   "execution_count": 2,
   "id": "f6b459f7",
   "metadata": {
    "execution": {
     "iopub.execute_input": "2025-06-16T18:42:27.247891Z",
     "iopub.status.busy": "2025-06-16T18:42:27.247422Z",
     "iopub.status.idle": "2025-06-16T18:43:24.618098Z",
     "shell.execute_reply": "2025-06-16T18:43:24.617477Z"
    },
    "papermill": {
     "duration": 57.375208,
     "end_time": "2025-06-16T18:43:24.619543",
     "exception": false,
     "start_time": "2025-06-16T18:42:27.244335",
     "status": "completed"
    },
    "tags": []
   },
   "outputs": [
    {
     "name": "stdout",
     "output_type": "stream",
     "text": [
      "Found 40083 files belonging to 128 classes.\n",
      "Using 38079 files for training.\n"
     ]
    },
    {
     "name": "stderr",
     "output_type": "stream",
     "text": [
      "I0000 00:00:1750099387.747642      19 gpu_device.cc:2022] Created device /job:localhost/replica:0/task:0/device:GPU:0 with 13942 MB memory:  -> device: 0, name: Tesla T4, pci bus id: 0000:00:04.0, compute capability: 7.5\n",
      "I0000 00:00:1750099387.748477      19 gpu_device.cc:2022] Created device /job:localhost/replica:0/task:0/device:GPU:1 with 13942 MB memory:  -> device: 1, name: Tesla T4, pci bus id: 0000:00:05.0, compute capability: 7.5\n"
     ]
    },
    {
     "name": "stdout",
     "output_type": "stream",
     "text": [
      "Found 40083 files belonging to 128 classes.\n",
      "Using 2004 files for validation.\n"
     ]
    }
   ],
   "source": [
    "dataset_dir = \"/kaggle/input/tsinghua-zip/tsinghua-zip-noteddycrd/low-resolution\"\n",
    "\n",
    "batch_size = 32\n",
    "img_height = 224\n",
    "img_width = 224\n",
    "validation_split = 0.05\n",
    "seed = 123\n",
    "\n",
    "train_ds = tf.keras.utils.image_dataset_from_directory(\n",
    "    dataset_dir,\n",
    "    validation_split=validation_split,\n",
    "    subset=\"training\",\n",
    "    seed=seed,\n",
    "    image_size=(img_height, img_width),\n",
    "    batch_size=batch_size\n",
    ")\n",
    "\n",
    "val_test_ds = tf.keras.utils.image_dataset_from_directory(\n",
    "    dataset_dir,\n",
    "    validation_split=validation_split,\n",
    "    subset=\"validation\",\n",
    "    seed=seed,\n",
    "    image_size=(img_height, img_width),\n",
    "    batch_size=batch_size\n",
    ")\n",
    "\n",
    "# num_val_test_batches = tf.data.experimental.cardinality(val_test_ds).numpy()\n",
    "# num_test_batches = int(num_val_test_batches * 0.5) \n",
    "# val_ds = val_test_ds.skip(num_test_batches)\n",
    "# test_ds = val_test_ds.take(num_test_batches)\n",
    "\n"
   ]
  },
  {
   "cell_type": "code",
   "execution_count": 3,
   "id": "f0f22d82",
   "metadata": {
    "execution": {
     "iopub.execute_input": "2025-06-16T18:43:24.626380Z",
     "iopub.status.busy": "2025-06-16T18:43:24.625863Z",
     "iopub.status.idle": "2025-06-16T18:43:24.629540Z",
     "shell.execute_reply": "2025-06-16T18:43:24.628869Z"
    },
    "papermill": {
     "duration": 0.008095,
     "end_time": "2025-06-16T18:43:24.630641",
     "exception": false,
     "start_time": "2025-06-16T18:43:24.622546",
     "status": "completed"
    },
    "tags": []
   },
   "outputs": [],
   "source": [
    "class_names = train_ds.class_names\n",
    "num_classes = len(train_ds.class_names)"
   ]
  },
  {
   "cell_type": "code",
   "execution_count": 4,
   "id": "b1159b58",
   "metadata": {
    "execution": {
     "iopub.execute_input": "2025-06-16T18:43:24.636439Z",
     "iopub.status.busy": "2025-06-16T18:43:24.635870Z",
     "iopub.status.idle": "2025-06-16T18:43:24.639946Z",
     "shell.execute_reply": "2025-06-16T18:43:24.639213Z"
    },
    "papermill": {
     "duration": 0.007888,
     "end_time": "2025-06-16T18:43:24.640991",
     "exception": false,
     "start_time": "2025-06-16T18:43:24.633103",
     "status": "completed"
    },
    "tags": []
   },
   "outputs": [
    {
     "name": "stdout",
     "output_type": "stream",
     "text": [
      "['affenpinscher', 'afghan_hound', 'african_hunting_dog', 'airedale', 'american_staffordshire_terrier', 'appenzeller', 'australian_shepherd', 'australian_terrier', 'basenji', 'basset', 'beagle', 'bedlington_terrier', 'bernese_mountain_dog', 'bichon_frise', 'black_and_tan_coonhound', 'black_sable', 'blenheim_spaniel', 'bloodhound', 'bluetick', 'border_collie', 'border_terrier', 'borzoi', 'boston_bull', 'bouvier_des_flandres', 'boxer', 'brabancon_griffo', 'briard', 'brittany_spaniel', 'bull_mastiff', 'cairn', 'cane_carso', 'cardigan', 'chesapeake_bay_retriever', 'chihuahua', 'chinese_crested_dog', 'chow', 'clumber', 'cocker_spaniel', 'collie', 'curly_coated_retriever', 'dandie_dinmont', 'dhole', 'dingo', 'doberman', 'english_foxhound', 'english_setter', 'english_springer', 'entlebucher', 'eskimo_dog', 'fila_braziliero', 'flat_coated_retriever', 'french_bulldog', 'german_shepherd', 'german_short_haired_pointer', 'giant_schnauzer', 'golden_retriever', 'gordon_setter', 'great_dane', 'great_pyrenees', 'greater_swiss_mountain_dog', 'groenendael', 'ibizan_hound', 'irish_setter', 'irish_terrier', 'irish_water_spaniel', 'irish_wolfhound', 'italian_greyhound', 'japanese_spaniel', 'japanese_spitzes', 'keeshond', 'kelpie', 'kerry_blue_terrier', 'komondor', 'kuvasz', 'labrador_retriever', 'lakeland_terrier', 'leonberg', 'lhasa', 'malamute', 'malinois', 'maltese_dog', 'mexican_hairless', 'miniature_pinscher', 'miniature_poodle', 'miniature_schnauzer', 'newfoundland', 'norfolk_terrier', 'norwegian_elkhound', 'norwich_terrier', 'old_english_sheepdog', 'otterhound', 'papillon', 'pekinese', 'pembroke', 'pomeranian', 'pug', 'redbone', 'rhodesian_ridgeback', 'rottweiler', 'saint_bernard', 'saluki', 'samoyed', 'schipperke', 'scotch_terrier', 'scottish_deerhound', 'sealyham_terrier', 'shetland_sheepdog', 'shiba_dog', 'shih_tzu', 'siberian_husky', 'silky_terrier', 'soft_coated_wheaten_terrier', 'staffordshire_bullterrier', 'standard_poodle', 'standard_schnauzer', 'sussex_spaniel', 'tibetan_mastiff', 'tibetan_terrier', 'toy_poodle', 'toy_terrier', 'vizsla', 'walker_hound', 'weimaraner', 'welsh_springer_spaniel', 'west_highland_white_terrier', 'whippet', 'wire_haired_fox_terrier', 'yorkshire_terrier']\n"
     ]
    }
   ],
   "source": [
    "print(class_names)"
   ]
  },
  {
   "cell_type": "code",
   "execution_count": 5,
   "id": "6db13834",
   "metadata": {
    "execution": {
     "iopub.execute_input": "2025-06-16T18:43:24.646722Z",
     "iopub.status.busy": "2025-06-16T18:43:24.646525Z",
     "iopub.status.idle": "2025-06-16T19:58:32.342096Z",
     "shell.execute_reply": "2025-06-16T19:58:32.341209Z"
    },
    "papermill": {
     "duration": 4507.700235,
     "end_time": "2025-06-16T19:58:32.343880",
     "exception": false,
     "start_time": "2025-06-16T18:43:24.643645",
     "status": "completed"
    },
    "tags": []
   },
   "outputs": [
    {
     "name": "stdout",
     "output_type": "stream",
     "text": [
      "Downloading data from https://storage.googleapis.com/tensorflow/keras-applications/efficientnet_v2/efficientnetv2-l_notop.h5\n",
      "\u001b[1m473176280/473176280\u001b[0m \u001b[32m━━━━━━━━━━━━━━━━━━━━\u001b[0m\u001b[37m\u001b[0m \u001b[1m2s\u001b[0m 0us/step\n",
      "Epoch 1/10\n"
     ]
    },
    {
     "name": "stderr",
     "output_type": "stream",
     "text": [
      "WARNING: All log messages before absl::InitializeLog() is called are written to STDERR\n",
      "I0000 00:00:1750099486.077014      69 service.cc:148] XLA service 0x7d353c140430 initialized for platform CUDA (this does not guarantee that XLA will be used). Devices:\n",
      "I0000 00:00:1750099486.078657      69 service.cc:156]   StreamExecutor device (0): Tesla T4, Compute Capability 7.5\n",
      "I0000 00:00:1750099486.078682      69 service.cc:156]   StreamExecutor device (1): Tesla T4, Compute Capability 7.5\n",
      "I0000 00:00:1750099494.658066      69 cuda_dnn.cc:529] Loaded cuDNN version 90300\n",
      "I0000 00:00:1750099542.904696      69 device_compiler.h:188] Compiled cluster using XLA!  This line is logged at most once for the lifetime of the process.\n"
     ]
    },
    {
     "name": "stdout",
     "output_type": "stream",
     "text": [
      "\u001b[1m1190/1190\u001b[0m \u001b[32m━━━━━━━━━━━━━━━━━━━━\u001b[0m\u001b[37m\u001b[0m \u001b[1m633s\u001b[0m 424ms/step - accuracy: 0.7102 - loss: 1.3415 - top_3_accuracy: 0.8568 - top_5_accuracy: 0.8898 - val_accuracy: 0.8458 - val_loss: 0.5047 - val_top_3_accuracy: 0.9676 - val_top_5_accuracy: 0.9805\n",
      "Epoch 2/10\n",
      "\u001b[1m1190/1190\u001b[0m \u001b[32m━━━━━━━━━━━━━━━━━━━━\u001b[0m\u001b[37m\u001b[0m \u001b[1m429s\u001b[0m 361ms/step - accuracy: 0.8310 - loss: 0.5744 - top_3_accuracy: 0.9588 - top_5_accuracy: 0.9781 - val_accuracy: 0.8558 - val_loss: 0.4658 - val_top_3_accuracy: 0.9701 - val_top_5_accuracy: 0.9820\n",
      "Epoch 3/10\n",
      "\u001b[1m1190/1190\u001b[0m \u001b[32m━━━━━━━━━━━━━━━━━━━━\u001b[0m\u001b[37m\u001b[0m \u001b[1m430s\u001b[0m 361ms/step - accuracy: 0.8454 - loss: 0.5130 - top_3_accuracy: 0.9654 - top_5_accuracy: 0.9830 - val_accuracy: 0.8603 - val_loss: 0.4595 - val_top_3_accuracy: 0.9711 - val_top_5_accuracy: 0.9815\n",
      "Epoch 4/10\n",
      "\u001b[1m1190/1190\u001b[0m \u001b[32m━━━━━━━━━━━━━━━━━━━━\u001b[0m\u001b[37m\u001b[0m \u001b[1m428s\u001b[0m 359ms/step - accuracy: 0.8540 - loss: 0.4725 - top_3_accuracy: 0.9712 - top_5_accuracy: 0.9879 - val_accuracy: 0.8563 - val_loss: 0.4614 - val_top_3_accuracy: 0.9721 - val_top_5_accuracy: 0.9835\n",
      "Epoch 5/10\n",
      "\u001b[1m1190/1190\u001b[0m \u001b[32m━━━━━━━━━━━━━━━━━━━━\u001b[0m\u001b[37m\u001b[0m \u001b[1m429s\u001b[0m 361ms/step - accuracy: 0.8612 - loss: 0.4410 - top_3_accuracy: 0.9737 - top_5_accuracy: 0.9893 - val_accuracy: 0.8618 - val_loss: 0.4586 - val_top_3_accuracy: 0.9726 - val_top_5_accuracy: 0.9840\n",
      "Epoch 6/10\n",
      "\u001b[1m1190/1190\u001b[0m \u001b[32m━━━━━━━━━━━━━━━━━━━━\u001b[0m\u001b[37m\u001b[0m \u001b[1m428s\u001b[0m 360ms/step - accuracy: 0.8670 - loss: 0.4144 - top_3_accuracy: 0.9771 - top_5_accuracy: 0.9911 - val_accuracy: 0.8603 - val_loss: 0.4594 - val_top_3_accuracy: 0.9721 - val_top_5_accuracy: 0.9830\n",
      "Epoch 7/10\n",
      "\u001b[1m1190/1190\u001b[0m \u001b[32m━━━━━━━━━━━━━━━━━━━━\u001b[0m\u001b[37m\u001b[0m \u001b[1m431s\u001b[0m 362ms/step - accuracy: 0.8727 - loss: 0.3919 - top_3_accuracy: 0.9798 - top_5_accuracy: 0.9925 - val_accuracy: 0.8633 - val_loss: 0.4531 - val_top_3_accuracy: 0.9701 - val_top_5_accuracy: 0.9835\n",
      "Epoch 8/10\n",
      "\u001b[1m1190/1190\u001b[0m \u001b[32m━━━━━━━━━━━━━━━━━━━━\u001b[0m\u001b[37m\u001b[0m \u001b[1m430s\u001b[0m 361ms/step - accuracy: 0.8800 - loss: 0.3635 - top_3_accuracy: 0.9842 - top_5_accuracy: 0.9949 - val_accuracy: 0.8668 - val_loss: 0.4484 - val_top_3_accuracy: 0.9736 - val_top_5_accuracy: 0.9855\n",
      "Epoch 9/10\n",
      "\u001b[1m1190/1190\u001b[0m \u001b[32m━━━━━━━━━━━━━━━━━━━━\u001b[0m\u001b[37m\u001b[0m \u001b[1m430s\u001b[0m 361ms/step - accuracy: 0.8844 - loss: 0.3565 - top_3_accuracy: 0.9854 - top_5_accuracy: 0.9950 - val_accuracy: 0.8688 - val_loss: 0.4566 - val_top_3_accuracy: 0.9736 - val_top_5_accuracy: 0.9850\n",
      "Epoch 10/10\n",
      "\u001b[1m1190/1190\u001b[0m \u001b[32m━━━━━━━━━━━━━━━━━━━━\u001b[0m\u001b[37m\u001b[0m \u001b[1m429s\u001b[0m 361ms/step - accuracy: 0.8863 - loss: 0.3358 - top_3_accuracy: 0.9872 - top_5_accuracy: 0.9960 - val_accuracy: 0.8678 - val_loss: 0.4699 - val_top_3_accuracy: 0.9711 - val_top_5_accuracy: 0.9835\n"
     ]
    }
   ],
   "source": [
    "from tensorflow.keras.applications import EfficientNetV2L\n",
    "from tensorflow.keras import layers, models\n",
    "from tensorflow.keras.callbacks import EarlyStopping\n",
    "\n",
    "early_stopping = EarlyStopping(\n",
    "    monitor='val_loss',    \n",
    "    patience=10,            \n",
    "    restore_best_weights=True  \n",
    ")\n",
    "\n",
    "data_augmentation = tf.keras.Sequential([\n",
    "    layers.RandomFlip(\"horizontal\"),\n",
    "    layers.RandomRotation(0.1),\n",
    "    layers.RandomZoom(0.1),\n",
    "])\n",
    "\n",
    "base_model = EfficientNetV2L(\n",
    "    input_shape=(224, 224, 3),\n",
    "    include_top=False,\n",
    "    weights=\"imagenet\"\n",
    ")\n",
    "base_model.trainable = False \n",
    "\n",
    "model = models.Sequential([\n",
    "    base_model,\n",
    "    layers.GlobalAveragePooling2D(),\n",
    "    layers.Dense(256, activation='relu'),\n",
    "    layers.Dropout(0.3),\n",
    "    layers.Dense(num_classes, activation='softmax')\n",
    "])\n",
    "\n",
    "model.compile(\n",
    "    optimizer='adam',\n",
    "    loss='sparse_categorical_crossentropy',\n",
    "    metrics=['accuracy',\n",
    "            tf.keras.metrics.SparseTopKCategoricalAccuracy(k=3, name='top_3_accuracy'),\n",
    "            tf.keras.metrics.SparseTopKCategoricalAccuracy(k=5, name='top_5_accuracy')]\n",
    ")\n",
    "\n",
    "history = model.fit(\n",
    "    train_ds,\n",
    "    validation_data=val_test_ds,\n",
    "    epochs=10,            \n",
    "    callbacks=[early_stopping]\n",
    ")"
   ]
  },
  {
   "cell_type": "code",
   "execution_count": 6,
   "id": "a68450d8",
   "metadata": {
    "execution": {
     "iopub.execute_input": "2025-06-16T19:58:33.718561Z",
     "iopub.status.busy": "2025-06-16T19:58:33.718174Z",
     "iopub.status.idle": "2025-06-16T19:58:33.722882Z",
     "shell.execute_reply": "2025-06-16T19:58:33.721895Z"
    },
    "papermill": {
     "duration": 0.616498,
     "end_time": "2025-06-16T19:58:33.724548",
     "exception": false,
     "start_time": "2025-06-16T19:58:33.108050",
     "status": "completed"
    },
    "tags": []
   },
   "outputs": [],
   "source": [
    "# model.evaluate(test_ds)"
   ]
  },
  {
   "cell_type": "code",
   "execution_count": 7,
   "id": "47beb0b3",
   "metadata": {
    "execution": {
     "iopub.execute_input": "2025-06-16T19:58:35.004241Z",
     "iopub.status.busy": "2025-06-16T19:58:35.003389Z",
     "iopub.status.idle": "2025-06-16T19:58:39.171287Z",
     "shell.execute_reply": "2025-06-16T19:58:39.170275Z"
    },
    "papermill": {
     "duration": 4.768511,
     "end_time": "2025-06-16T19:58:39.173085",
     "exception": false,
     "start_time": "2025-06-16T19:58:34.404574",
     "status": "completed"
    },
    "tags": []
   },
   "outputs": [],
   "source": [
    "model.save('model.keras')"
   ]
  },
  {
   "cell_type": "code",
   "execution_count": 8,
   "id": "53f094f7",
   "metadata": {
    "execution": {
     "iopub.execute_input": "2025-06-16T19:58:40.457821Z",
     "iopub.status.busy": "2025-06-16T19:58:40.457474Z",
     "iopub.status.idle": "2025-06-16T19:58:41.250747Z",
     "shell.execute_reply": "2025-06-16T19:58:41.249964Z"
    },
    "papermill": {
     "duration": 1.390859,
     "end_time": "2025-06-16T19:58:41.252265",
     "exception": false,
     "start_time": "2025-06-16T19:58:39.861406",
     "status": "completed"
    },
    "tags": []
   },
   "outputs": [
    {
     "name": "stdout",
     "output_type": "stream",
     "text": [
      "Downloading data from https://teketrek.net/wp-content/uploads/2024/05/%D9%83%D9%84%D8%A8-%D8%A7%D9%84%D9%85%D8%A7%D9%84%D8%B7%D9%8A.webp\n",
      "\u001b[1m97714/97714\u001b[0m \u001b[32m━━━━━━━━━━━━━━━━━━━━\u001b[0m\u001b[37m\u001b[0m \u001b[1m0s\u001b[0m 1us/step\n"
     ]
    }
   ],
   "source": [
    "maltese_url = \"https://teketrek.net/wp-content/uploads/2024/05/%D9%83%D9%84%D8%A8-%D8%A7%D9%84%D9%85%D8%A7%D9%84%D8%B7%D9%8A.webp\"\n",
    "maltese_path = tf.keras.utils.get_file('Maltese', origin=maltese_url)"
   ]
  },
  {
   "cell_type": "code",
   "execution_count": 9,
   "id": "4a5adfac",
   "metadata": {
    "execution": {
     "iopub.execute_input": "2025-06-16T19:58:42.540151Z",
     "iopub.status.busy": "2025-06-16T19:58:42.539832Z",
     "iopub.status.idle": "2025-06-16T19:58:42.943928Z",
     "shell.execute_reply": "2025-06-16T19:58:42.942897Z"
    },
    "papermill": {
     "duration": 1.087199,
     "end_time": "2025-06-16T19:58:42.945652",
     "exception": false,
     "start_time": "2025-06-16T19:58:41.858453",
     "status": "completed"
    },
    "tags": []
   },
   "outputs": [],
   "source": [
    "img = tf.keras.utils.load_img(\n",
    "    maltese_path, target_size=(img_height, img_width)\n",
    ")\n",
    "img_array = tf.keras.utils.img_to_array(img)\n",
    "img_array = tf.expand_dims(img_array, 0)"
   ]
  },
  {
   "cell_type": "code",
   "execution_count": 10,
   "id": "d7c6be5d",
   "metadata": {
    "execution": {
     "iopub.execute_input": "2025-06-16T19:58:44.231156Z",
     "iopub.status.busy": "2025-06-16T19:58:44.230839Z",
     "iopub.status.idle": "2025-06-16T19:59:13.814872Z",
     "shell.execute_reply": "2025-06-16T19:59:13.813991Z"
    },
    "papermill": {
     "duration": 30.278579,
     "end_time": "2025-06-16T19:59:13.816332",
     "exception": false,
     "start_time": "2025-06-16T19:58:43.537753",
     "status": "completed"
    },
    "tags": []
   },
   "outputs": [
    {
     "name": "stdout",
     "output_type": "stream",
     "text": [
      "\u001b[1m1/1\u001b[0m \u001b[32m━━━━━━━━━━━━━━━━━━━━\u001b[0m\u001b[37m\u001b[0m \u001b[1m29s\u001b[0m 29s/step\n",
      "This image most likely belongs to chinese_crested_dog with a 41.03 percent confidence.\n"
     ]
    }
   ],
   "source": [
    "predictions = model.predict(img_array)\n",
    "score = predictions[0]\n",
    "\n",
    "print(\n",
    "    \"This image most likely belongs to {} with a {:.2f} percent confidence.\"\n",
    "    .format(class_names[np.argmax(score)], 100 * np.max(score))\n",
    ")\n"
   ]
  },
  {
   "cell_type": "code",
   "execution_count": null,
   "id": "8ae6b828",
   "metadata": {
    "papermill": {
     "duration": 0.603904,
     "end_time": "2025-06-16T19:59:15.019591",
     "exception": false,
     "start_time": "2025-06-16T19:59:14.415687",
     "status": "completed"
    },
    "tags": []
   },
   "outputs": [],
   "source": []
  }
 ],
 "metadata": {
  "kaggle": {
   "accelerator": "nvidiaTeslaT4",
   "dataSources": [
    {
     "datasetId": 7673142,
     "sourceId": 12186170,
     "sourceType": "datasetVersion"
    }
   ],
   "dockerImageVersionId": 31041,
   "isGpuEnabled": true,
   "isInternetEnabled": true,
   "language": "python",
   "sourceType": "notebook"
  },
  "kernelspec": {
   "display_name": "Python 3",
   "language": "python",
   "name": "python3"
  },
  "language_info": {
   "codemirror_mode": {
    "name": "ipython",
    "version": 3
   },
   "file_extension": ".py",
   "mimetype": "text/x-python",
   "name": "python",
   "nbconvert_exporter": "python",
   "pygments_lexer": "ipython3",
   "version": "3.11.11"
  },
  "papermill": {
   "default_parameters": {},
   "duration": 4645.230821,
   "end_time": "2025-06-16T19:59:19.129099",
   "environment_variables": {},
   "exception": null,
   "input_path": "__notebook__.ipynb",
   "output_path": "__notebook__.ipynb",
   "parameters": {},
   "start_time": "2025-06-16T18:41:53.898278",
   "version": "2.6.0"
  }
 },
 "nbformat": 4,
 "nbformat_minor": 5
}
