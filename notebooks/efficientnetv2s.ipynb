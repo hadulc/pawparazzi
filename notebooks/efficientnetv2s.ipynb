{
 "cells": [
  {
   "cell_type": "code",
   "execution_count": 1,
   "metadata": {
    "execution": {
     "iopub.execute_input": "2025-06-13T08:29:21.535236Z",
     "iopub.status.busy": "2025-06-13T08:29:21.535034Z",
     "iopub.status.idle": "2025-06-13T08:29:34.994005Z",
     "shell.execute_reply": "2025-06-13T08:29:34.993218Z",
     "shell.execute_reply.started": "2025-06-13T08:29:21.535218Z"
    }
   },
   "outputs": [
    {
     "name": "stderr",
     "output_type": "stream",
     "text": [
      "2025-06-13 08:29:22.896646: E external/local_xla/xla/stream_executor/cuda/cuda_fft.cc:477] Unable to register cuFFT factory: Attempting to register factory for plugin cuFFT when one has already been registered\n",
      "WARNING: All log messages before absl::InitializeLog() is called are written to STDERR\n",
      "E0000 00:00:1749803363.067843      35 cuda_dnn.cc:8310] Unable to register cuDNN factory: Attempting to register factory for plugin cuDNN when one has already been registered\n",
      "E0000 00:00:1749803363.120926      35 cuda_blas.cc:1418] Unable to register cuBLAS factory: Attempting to register factory for plugin cuBLAS when one has already been registered\n"
     ]
    }
   ],
   "source": [
    "from tensorflow.keras.applications import EfficientNetV2S\n",
    "from tensorflow.keras import layers, Sequential\n",
    "import numpy as np\n",
    "import tensorflow as tf"
   ]
  },
  {
   "cell_type": "code",
   "execution_count": 2,
   "metadata": {
    "execution": {
     "iopub.execute_input": "2025-06-13T08:29:34.995701Z",
     "iopub.status.busy": "2025-06-13T08:29:34.995157Z",
     "iopub.status.idle": "2025-06-13T08:30:03.934124Z",
     "shell.execute_reply": "2025-06-13T08:30:03.933577Z",
     "shell.execute_reply.started": "2025-06-13T08:29:34.995679Z"
    }
   },
   "outputs": [
    {
     "name": "stdout",
     "output_type": "stream",
     "text": [
      "Found 20580 files belonging to 120 classes.\n",
      "Using 14406 files for training.\n"
     ]
    },
    {
     "name": "stderr",
     "output_type": "stream",
     "text": [
      "I0000 00:00:1749803395.746382      35 gpu_device.cc:2022] Created device /job:localhost/replica:0/task:0/device:GPU:0 with 15513 MB memory:  -> device: 0, name: Tesla P100-PCIE-16GB, pci bus id: 0000:00:04.0, compute capability: 6.0\n"
     ]
    },
    {
     "name": "stdout",
     "output_type": "stream",
     "text": [
      "Found 20580 files belonging to 120 classes.\n",
      "Using 6174 files for validation.\n"
     ]
    }
   ],
   "source": [
    "dataset_dir = \"/kaggle/input/stanford-dogs-dataset/images/Images\"\n",
    "batch_size = 32\n",
    "img_height = 224\n",
    "img_width = 224\n",
    "validation_split = 0.3\n",
    "seed = 123\n",
    "\n",
    "train_ds = tf.keras.utils.image_dataset_from_directory(\n",
    "    dataset_dir,\n",
    "    validation_split=validation_split,\n",
    "    subset=\"training\",\n",
    "    seed=seed,\n",
    "    image_size=(img_height, img_width),\n",
    "    batch_size=batch_size\n",
    ")\n",
    "\n",
    "val_test_ds = tf.keras.utils.image_dataset_from_directory(\n",
    "    dataset_dir,\n",
    "    validation_split=validation_split,\n",
    "    subset=\"validation\",\n",
    "    seed=seed,\n",
    "    image_size=(img_height, img_width),\n",
    "    batch_size=batch_size\n",
    ")\n",
    "\n",
    "num_val_test_batches = tf.data.experimental.cardinality(val_test_ds).numpy()\n",
    "num_test_batches = int(num_val_test_batches * 0.5)\n",
    "val_ds = val_test_ds.skip(num_test_batches)\n",
    "test_ds = val_test_ds.take(num_test_batches)"
   ]
  },
  {
   "cell_type": "code",
   "execution_count": 3,
   "metadata": {
    "execution": {
     "iopub.execute_input": "2025-06-13T08:30:03.934963Z",
     "iopub.status.busy": "2025-06-13T08:30:03.934780Z",
     "iopub.status.idle": "2025-06-13T08:34:58.053541Z",
     "shell.execute_reply": "2025-06-13T08:34:58.052917Z",
     "shell.execute_reply.started": "2025-06-13T08:30:03.934948Z"
    }
   },
   "outputs": [
    {
     "name": "stdout",
     "output_type": "stream",
     "text": [
      "Downloading data from https://storage.googleapis.com/tensorflow/keras-applications/efficientnet_v2/efficientnetv2-s_notop.h5\n",
      "\u001b[1m82420632/82420632\u001b[0m \u001b[32m━━━━━━━━━━━━━━━━━━━━\u001b[0m\u001b[37m\u001b[0m \u001b[1m5s\u001b[0m 0us/step\n",
      "Epoch 1/5\n"
     ]
    },
    {
     "name": "stderr",
     "output_type": "stream",
     "text": [
      "WARNING: All log messages before absl::InitializeLog() is called are written to STDERR\n",
      "I0000 00:00:1749803444.404716     101 service.cc:148] XLA service 0x78fdec09ff70 initialized for platform CUDA (this does not guarantee that XLA will be used). Devices:\n",
      "I0000 00:00:1749803444.405518     101 service.cc:156]   StreamExecutor device (0): Tesla P100-PCIE-16GB, Compute Capability 6.0\n",
      "I0000 00:00:1749803448.273035     101 cuda_dnn.cc:529] Loaded cuDNN version 90300\n"
     ]
    },
    {
     "name": "stdout",
     "output_type": "stream",
     "text": [
      "\u001b[1m  2/451\u001b[0m \u001b[37m━━━━━━━━━━━━━━━━━━━━\u001b[0m \u001b[1m28s\u001b[0m 64ms/step - accuracy: 0.0234 - loss: 4.8716   "
     ]
    },
    {
     "name": "stderr",
     "output_type": "stream",
     "text": [
      "I0000 00:00:1749803468.777896     101 device_compiler.h:188] Compiled cluster using XLA!  This line is logged at most once for the lifetime of the process.\n"
     ]
    },
    {
     "name": "stdout",
     "output_type": "stream",
     "text": [
      "\u001b[1m451/451\u001b[0m \u001b[32m━━━━━━━━━━━━━━━━━━━━\u001b[0m\u001b[37m\u001b[0m \u001b[1m148s\u001b[0m 204ms/step - accuracy: 0.6861 - loss: 1.7179 - val_accuracy: 0.9078 - val_loss: 0.3167\n",
      "Epoch 2/5\n",
      "\u001b[1m451/451\u001b[0m \u001b[32m━━━━━━━━━━━━━━━━━━━━\u001b[0m\u001b[37m\u001b[0m \u001b[1m34s\u001b[0m 76ms/step - accuracy: 0.8832 - loss: 0.3821 - val_accuracy: 0.9142 - val_loss: 0.2960\n",
      "Epoch 3/5\n",
      "\u001b[1m451/451\u001b[0m \u001b[32m━━━━━━━━━━━━━━━━━━━━\u001b[0m\u001b[37m\u001b[0m \u001b[1m34s\u001b[0m 76ms/step - accuracy: 0.9004 - loss: 0.3229 - val_accuracy: 0.9075 - val_loss: 0.3207\n",
      "Epoch 4/5\n",
      "\u001b[1m451/451\u001b[0m \u001b[32m━━━━━━━━━━━━━━━━━━━━\u001b[0m\u001b[37m\u001b[0m \u001b[1m34s\u001b[0m 76ms/step - accuracy: 0.9087 - loss: 0.2818 - val_accuracy: 0.9072 - val_loss: 0.3210\n",
      "Epoch 5/5\n",
      "\u001b[1m451/451\u001b[0m \u001b[32m━━━━━━━━━━━━━━━━━━━━\u001b[0m\u001b[37m\u001b[0m \u001b[1m34s\u001b[0m 76ms/step - accuracy: 0.9090 - loss: 0.2713 - val_accuracy: 0.9104 - val_loss: 0.3172\n"
     ]
    }
   ],
   "source": [
    "from tensorflow.keras import layers, models\n",
    "from tensorflow.keras.callbacks import EarlyStopping\n",
    "\n",
    "early_stopping = EarlyStopping(\n",
    "    monitor='val_loss',\n",
    "    patience=3,\n",
    "    restore_best_weights=True\n",
    ")\n",
    "\n",
    "data_augmentation = tf.keras.Sequential([\n",
    "    layers.RandomFlip(\"horizontal\"),\n",
    "    layers.RandomRotation(0.1),\n",
    "    layers.RandomZoom(0.1),\n",
    "])\n",
    "\n",
    "base_model = EfficientNetV2S(\n",
    "    input_shape=(224, 224, 3),\n",
    "    include_top=False,\n",
    "    weights=\"imagenet\",\n",
    "    classes=120\n",
    ")\n",
    "base_model.trainable = False\n",
    "\n",
    "model = models.Sequential([\n",
    "    base_model,\n",
    "    layers.GlobalAveragePooling2D(),\n",
    "    layers.Dense(256, activation='relu'),\n",
    "    layers.Dropout(0.3),\n",
    "    layers.Dense(120, activation='softmax')\n",
    "])\n",
    "\n",
    "model.compile(\n",
    "    optimizer='adam',\n",
    "    loss='sparse_categorical_crossentropy',\n",
    "    metrics=['accuracy']\n",
    ")\n",
    "\n",
    "history = model.fit(\n",
    "    train_ds,\n",
    "    validation_data=val_ds,\n",
    "    epochs=5,\n",
    "    callbacks=[early_stopping]\n",
    ")"
   ]
  },
  {
   "cell_type": "code",
   "execution_count": 4,
   "metadata": {
    "execution": {
     "iopub.execute_input": "2025-06-13T08:34:58.056028Z",
     "iopub.status.busy": "2025-06-13T08:34:58.055831Z",
     "iopub.status.idle": "2025-06-13T08:35:03.604779Z",
     "shell.execute_reply": "2025-06-13T08:35:03.603997Z",
     "shell.execute_reply.started": "2025-06-13T08:34:58.056012Z"
    }
   },
   "outputs": [
    {
     "name": "stdout",
     "output_type": "stream",
     "text": [
      "\u001b[1m96/96\u001b[0m \u001b[32m━━━━━━━━━━━━━━━━━━━━\u001b[0m\u001b[37m\u001b[0m \u001b[1m6s\u001b[0m 57ms/step - accuracy: 0.9050 - loss: 0.3200\n"
     ]
    },
    {
     "data": {
      "text/plain": [
       "[0.2959648668766022, 0.9091796875]"
      ]
     },
     "execution_count": 4,
     "metadata": {},
     "output_type": "execute_result"
    }
   ],
   "source": [
    "model.evaluate(test_ds)"
   ]
  },
  {
   "cell_type": "code",
   "execution_count": 5,
   "metadata": {
    "execution": {
     "iopub.execute_input": "2025-06-13T08:35:03.605738Z",
     "iopub.status.busy": "2025-06-13T08:35:03.605453Z",
     "iopub.status.idle": "2025-06-13T08:35:03.609264Z",
     "shell.execute_reply": "2025-06-13T08:35:03.608523Z",
     "shell.execute_reply.started": "2025-06-13T08:35:03.605720Z"
    }
   },
   "outputs": [],
   "source": [
    "num_classes = len(train_ds.class_names)\n",
    "class_names = train_ds.class_names"
   ]
  },
  {
   "cell_type": "code",
   "execution_count": 6,
   "metadata": {
    "execution": {
     "iopub.execute_input": "2025-06-13T08:35:03.610397Z",
     "iopub.status.busy": "2025-06-13T08:35:03.610144Z",
     "iopub.status.idle": "2025-06-13T08:35:04.945238Z",
     "shell.execute_reply": "2025-06-13T08:35:04.944687Z",
     "shell.execute_reply.started": "2025-06-13T08:35:03.610381Z"
    }
   },
   "outputs": [],
   "source": [
    "model.save('model-efficientnetv2s.keras')"
   ]
  },
  {
   "cell_type": "code",
   "execution_count": 7,
   "metadata": {
    "execution": {
     "iopub.execute_input": "2025-06-13T08:35:04.946211Z",
     "iopub.status.busy": "2025-06-13T08:35:04.945943Z",
     "iopub.status.idle": "2025-06-13T08:35:06.659209Z",
     "shell.execute_reply": "2025-06-13T08:35:06.658684Z",
     "shell.execute_reply.started": "2025-06-13T08:35:04.946183Z"
    }
   },
   "outputs": [
    {
     "name": "stdout",
     "output_type": "stream",
     "text": [
      "Downloading data from https://teketrek.net/wp-content/uploads/2024/05/%D9%83%D9%84%D8%A8-%D8%A7%D9%84%D9%85%D8%A7%D9%84%D8%B7%D9%8A.webp\n",
      "\u001b[1m97714/97714\u001b[0m \u001b[32m━━━━━━━━━━━━━━━━━━━━\u001b[0m\u001b[37m\u001b[0m \u001b[1m0s\u001b[0m 0us/step\n"
     ]
    }
   ],
   "source": [
    "maltese_url = \"https://teketrek.net/wp-content/uploads/2024/05/%D9%83%D9%84%D8%A8-%D8%A7%D9%84%D9%85%D8%A7%D9%84%D8%B7%D9%8A.webp\"\n",
    "maltese_path = tf.keras.utils.get_file('Maltese', origin=maltese_url)"
   ]
  },
  {
   "cell_type": "code",
   "execution_count": 8,
   "metadata": {
    "execution": {
     "iopub.execute_input": "2025-06-13T08:35:06.660240Z",
     "iopub.status.busy": "2025-06-13T08:35:06.659986Z",
     "iopub.status.idle": "2025-06-13T08:35:06.853361Z",
     "shell.execute_reply": "2025-06-13T08:35:06.852810Z",
     "shell.execute_reply.started": "2025-06-13T08:35:06.660220Z"
    }
   },
   "outputs": [],
   "source": [
    "img = tf.keras.utils.load_img(\n",
    "    maltese_path, target_size=(img_height, img_width)\n",
    ")\n",
    "img_array = tf.keras.utils.img_to_array(img)\n",
    "img_array = tf.expand_dims(img_array, 0)"
   ]
  },
  {
   "cell_type": "code",
   "execution_count": 9,
   "metadata": {
    "execution": {
     "iopub.execute_input": "2025-06-13T08:35:06.854251Z",
     "iopub.status.busy": "2025-06-13T08:35:06.854060Z",
     "iopub.status.idle": "2025-06-13T08:35:19.076877Z",
     "shell.execute_reply": "2025-06-13T08:35:19.076024Z",
     "shell.execute_reply.started": "2025-06-13T08:35:06.854237Z"
    }
   },
   "outputs": [
    {
     "name": "stdout",
     "output_type": "stream",
     "text": [
      "\u001b[1m1/1\u001b[0m \u001b[32m━━━━━━━━━━━━━━━━━━━━\u001b[0m\u001b[37m\u001b[0m \u001b[1m12s\u001b[0m 12s/step\n",
      "This image most likely belongs to n02085936-Maltese_dog with a 75.00 percent confidence.\n"
     ]
    }
   ],
   "source": [
    "predictions = model.predict(img_array)\n",
    "score = predictions[0]\n",
    "\n",
    "print(\n",
    "    \"This image most likely belongs to {} with a {:.2f} percent confidence.\"\n",
    "    .format(class_names[np.argmax(score)], 100 * np.max(score))\n",
    ")"
   ]
  }
 ],
 "metadata": {
  "kaggle": {
   "accelerator": "gpu",
   "dataSources": [
    {
     "datasetId": 119698,
     "sourceId": 791828,
     "sourceType": "datasetVersion"
    }
   ],
   "dockerImageVersionId": 31041,
   "isGpuEnabled": true,
   "isInternetEnabled": true,
   "language": "python",
   "sourceType": "notebook"
  },
  "kernelspec": {
   "display_name": "Python 3 (ipykernel)",
   "language": "python",
   "name": "python3"
  },
  "language_info": {
   "codemirror_mode": {
    "name": "ipython",
    "version": 3
   },
   "file_extension": ".py",
   "mimetype": "text/x-python",
   "name": "python",
   "nbconvert_exporter": "python",
   "pygments_lexer": "ipython3",
   "version": "3.10.6"
  }
 },
 "nbformat": 4,
 "nbformat_minor": 4
}
